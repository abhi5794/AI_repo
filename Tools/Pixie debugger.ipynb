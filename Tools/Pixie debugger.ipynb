{
 "cells": [
  {
   "cell_type": "markdown",
   "metadata": {
    "collapsed": true
   },
   "source": [
    "## Steps for using pixie debugger\n",
    "\n",
    ">!pip install pixiedust\n"
   ]
  },
  {
   "cell_type": "code",
   "execution_count": 1,
   "metadata": {},
   "outputs": [
    {
     "name": "stdout",
     "output_type": "stream",
     "text": [
      "Collecting pixiedust\n",
      "  Downloading https://files.pythonhosted.org/packages/a8/d1/e3df504005abd892fc5ddfabcb23f5d1fc4d74290f0efe4767e23293d9f5/pixiedust-1.1.11.tar.gz (190kB)\n",
      "Collecting mpld3 (from pixiedust)\n",
      "  Downloading https://files.pythonhosted.org/packages/91/95/a52d3a83d0a29ba0d6898f6727e9858fe7a43f6c2ce81a5fe7e05f0f4912/mpld3-0.3.tar.gz (788kB)\n",
      "Requirement already satisfied: lxml in c:\\users\\abhijith\\anaconda3\\lib\\site-packages (from pixiedust) (4.1.1)\n",
      "Collecting geojson (from pixiedust)\n",
      "  Downloading https://files.pythonhosted.org/packages/8d/39/231105abbfd2332f108cdbfe736e56324949fa9e80e536ae60a082cf96a9/geojson-2.4.0-py2.py3-none-any.whl\n",
      "Collecting astunparse (from pixiedust)\n",
      "  Downloading https://files.pythonhosted.org/packages/8b/ea/d38686f1718e307d83673d905dcffd142640a31a217e4e76d1de78f21b20/astunparse-1.5.0-py2.py3-none-any.whl\n",
      "Requirement already satisfied: markdown in c:\\users\\abhijith\\anaconda3\\lib\\site-packages (from pixiedust) (2.6.11)\n",
      "Collecting colour (from pixiedust)\n",
      "  Downloading https://files.pythonhosted.org/packages/74/46/e81907704ab203206769dee1385dc77e1407576ff8f50a0681d0a6b541be/colour-0.1.5-py2.py3-none-any.whl\n",
      "Requirement already satisfied: wheel<1.0,>=0.23.0 in c:\\users\\abhijith\\anaconda3\\lib\\site-packages (from astunparse->pixiedust) (0.30.0)\n",
      "Requirement already satisfied: six<2.0,>=1.6.1 in c:\\users\\abhijith\\anaconda3\\lib\\site-packages (from astunparse->pixiedust) (1.11.0)\n",
      "Building wheels for collected packages: pixiedust, mpld3\n",
      "  Running setup.py bdist_wheel for pixiedust: started\n",
      "  Running setup.py bdist_wheel for pixiedust: finished with status 'done'\n",
      "  Stored in directory: C:\\Users\\Abhijith\\AppData\\Local\\pip\\Cache\\wheels\\2a\\fd\\3b\\985d85a6f3f6b508693cc40948fd6e68569ccebc15baf491e1\n",
      "  Running setup.py bdist_wheel for mpld3: started\n",
      "  Running setup.py bdist_wheel for mpld3: finished with status 'done'\n",
      "  Stored in directory: C:\\Users\\Abhijith\\AppData\\Local\\pip\\Cache\\wheels\\c0\\47\\fb\\8a64f89aecfe0059830479308ad42d62e898a3e3cefdf6ba28\n",
      "Successfully built pixiedust mpld3\n",
      "Installing collected packages: mpld3, geojson, astunparse, colour, pixiedust\n",
      "Successfully installed astunparse-1.5.0 colour-0.1.5 geojson-2.4.0 mpld3-0.3 pixiedust-1.1.11\n"
     ]
    }
   ],
   "source": [
    "!pip install pixiedust"
   ]
  },
  {
   "cell_type": "code",
   "execution_count": null,
   "metadata": {},
   "outputs": [
    {
     "name": "stdout",
     "output_type": "stream",
     "text": [
      "Pixiedust database opened successfully\n",
      "Table VERSION_TRACKER created successfully\n",
      "Table METRICS_TRACKER created successfully\n",
      "\n",
      "Share anonymous install statistics? (opt-out instructions)\n",
      "\n",
      "PixieDust will record metadata on its environment the next time the package is installed or updated. The data is anonymized and aggregated to help plan for future releases, and records only the following values:\n",
      "\n",
      "{\n",
      "   \"data_sent\": currentDate,\n",
      "   \"runtime\": \"python\",\n",
      "   \"application_version\": currentPixiedustVersion,\n",
      "   \"space_id\": nonIdentifyingUniqueId,\n",
      "   \"config\": {\n",
      "       \"repository_id\": \"https://github.com/ibm-watson-data-lab/pixiedust\",\n",
      "       \"target_runtimes\": [\"Data Science Experience\"],\n",
      "       \"event_id\": \"web\",\n",
      "       \"event_organizer\": \"dev-journeys\"\n",
      "   }\n",
      "}\n",
      "You can opt out by calling pixiedust.optOut() in a new cell.\n"
     ]
    },
    {
     "data": {
      "text/html": [
       "\n",
       "        <div style=\"margin:10px\">\n",
       "            <a href=\"https://github.com/ibm-watson-data-lab/pixiedust\" target=\"_new\">\n",
       "                <img src=\"https://github.com/ibm-watson-data-lab/pixiedust/raw/master/docs/_static/pd_icon32.png\" style=\"float:left;margin-right:10px\"/>\n",
       "            </a>\n",
       "            <span>Pixiedust version 1.1.11</span>\n",
       "        </div>\n",
       "        "
      ],
      "text/plain": [
       "<IPython.core.display.HTML object>"
      ]
     },
     "metadata": {},
     "output_type": "display_data"
    },
    {
     "name": "stdout",
     "output_type": "stream",
     "text": [
      "Pixiedust runtime updated. Please restart kernel\n"
     ]
    }
   ],
   "source": [
    "import pixiedust"
   ]
  },
  {
   "cell_type": "code",
   "execution_count": null,
   "metadata": {
    "pixiedust": {
     "displayParams": {}
    }
   },
   "outputs": [],
   "source": [
    "%%pixie_debugger\n",
    "\n",
    "def wave(str_):\n",
    "    str_ = str_.lower()\n",
    "    n = 0\n",
    "    str_list = []\n",
    "    res = []\n",
    "    fin = []\n",
    "    fin2 = []\n",
    "    str_list = list(str_)\n",
    "    for i in range(len(str_)):\n",
    "        for i in range(len(str_)):\n",
    "                if i == n and str_list[i] != ' ':\n",
    "                    res.append(str_list[i].upper())\n",
    "                elif str_list[i] != ' ':\n",
    "                    res.append(str_list[i])\n",
    "        fin2.append(''.join(res))\n",
    "        res = []\n",
    "        n += 1\n",
    "    fin.append(fin2)\n",
    "    print(fin)\n",
    "\n",
    "wave('Gap ')"
   ]
  },
  {
   "cell_type": "code",
   "execution_count": null,
   "metadata": {},
   "outputs": [],
   "source": []
  }
 ],
 "metadata": {
  "kernelspec": {
   "display_name": "Python 3",
   "language": "python",
   "name": "python3"
  },
  "language_info": {
   "codemirror_mode": {
    "name": "ipython",
    "version": 3
   },
   "file_extension": ".py",
   "mimetype": "text/x-python",
   "name": "python",
   "nbconvert_exporter": "python",
   "pygments_lexer": "ipython3",
   "version": "3.6.4"
  }
 },
 "nbformat": 4,
 "nbformat_minor": 2
}
