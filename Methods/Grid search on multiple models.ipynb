{
  "cells": [
    {
      "metadata": {
        "_uuid": "d3274860fadf5c92c2b8321a992d64c6282e7b47"
      },
      "cell_type": "raw",
      "source": ""
    },
    {
      "metadata": {
        "_uuid": "8f2839f25d086af736a60e9eeb907d3b93b6e0e5",
        "_cell_guid": "b1076dfc-b9ad-4769-8c92-a6c4dae69d19",
        "trusted": true
      },
      "cell_type": "code",
      "source": "import pandas as pd\nimport numpy as np\n\nfrom sklearn.model_selection import GridSearchCV\n\nclass EstimatorSelectionHelper:\n\n    def __init__(self, models, params):\n        if not set(models.keys()).issubset(set(params.keys())):\n            missing_params = list(set(models.keys()) - set(params.keys()))\n            raise ValueError(\"Some estimators are missing parameters: %s\" % missing_params)\n        self.models = models\n        self.params = params\n        self.keys = models.keys()\n        self.grid_searches = {}\n\n    def fit(self, X, y, cv=3, n_jobs=3, verbose=1, scoring=None, refit=False):\n        for key in self.keys:\n            print(\"Running GridSearchCV for %s.\" % key)\n            model = self.models[key]\n            params = self.params[key]\n            gs = GridSearchCV(model, params, cv=cv, n_jobs=n_jobs,\n                              verbose=verbose, scoring=scoring, refit=refit,\n                              return_train_score=True)\n            gs.fit(X,y)\n            self.grid_searches[key] = gs    \n\n    def score_summary(self, sort_by='mean_score'):\n        def row(key, scores, params):\n            d = {\n                 'estimator': key,\n                 'min_score': min(scores),\n                 'max_score': max(scores),\n                 'mean_score': np.mean(scores),\n                 'std_score': np.std(scores),\n            }\n            return pd.Series({**params,**d})\n\n        rows = []\n        for k in self.grid_searches:\n            print(k)\n            params = self.grid_searches[k].cv_results_['params']\n            scores = []\n            for i in range(self.grid_searches[k].cv):\n                key = \"split{}_test_score\".format(i)\n                r = self.grid_searches[k].cv_results_[key]        \n                scores.append(r.reshape(len(params),1))\n\n            all_scores = np.hstack(scores)\n            for p, s in zip(params,all_scores):\n                rows.append((row(k, s, p)))\n\n        df = pd.concat(rows, axis=1).T.sort_values([sort_by], ascending=False)\n\n        columns = ['estimator', 'min_score', 'mean_score', 'max_score', 'std_score']\n        columns = columns + [c for c in df.columns if c not in columns]\n\n        return df[columns]",
      "execution_count": 1,
      "outputs": []
    },
    {
      "metadata": {
        "_cell_guid": "79c7e3d0-c299-4dcb-8224-4455121ee9b0",
        "_uuid": "d629ff2d2480ee46fbb7e2d37f6b5fab8052498a",
        "trusted": true
      },
      "cell_type": "code",
      "source": "from sklearn import datasets\n\nbreast_cancer = datasets.load_breast_cancer()\nX_cancer = breast_cancer.data\ny_cancer = breast_cancer.target\n\nfrom sklearn.ensemble import RandomForestClassifier\nfrom sklearn.ensemble import AdaBoostClassifier\nfrom sklearn.ensemble import GradientBoostingClassifier\nfrom sklearn.ensemble import ExtraTreesClassifier\nfrom sklearn.svm import SVC\n\nmodels1 = {\n    'ExtraTreesClassifier': ExtraTreesClassifier(),\n    'RandomForestClassifier': RandomForestClassifier(),\n    'AdaBoostClassifier': AdaBoostClassifier(),\n    'GradientBoostingClassifier': GradientBoostingClassifier(),\n    'SVC': SVC()\n}\n\nparams1 = {\n    'ExtraTreesClassifier': { 'n_estimators': [16, 32] },\n    'RandomForestClassifier': { 'n_estimators': [16, 32] },\n    'AdaBoostClassifier':  { 'n_estimators': [16, 32] },\n    'GradientBoostingClassifier': { 'n_estimators': [16, 32], 'learning_rate': [0.8, 1.0] },\n    'SVC': [\n        {'kernel': ['linear'], 'C': [1, 10]},\n        {'kernel': ['rbf'], 'C': [1, 10], 'gamma': [0.001, 0.0001]},\n    ]\n}",
      "execution_count": 2,
      "outputs": []
    },
    {
      "metadata": {
        "trusted": true,
        "_uuid": "5c67b490ad372ed6ac09f55c62a86c21634a2768"
      },
      "cell_type": "code",
      "source": "helper1 = EstimatorSelectionHelper(models1, params1)\nhelper1.fit(X_cancer, y_cancer, scoring='f1', n_jobs=2)",
      "execution_count": 3,
      "outputs": [
        {
          "output_type": "stream",
          "text": "Running GridSearchCV for ExtraTreesClassifier.\nFitting 3 folds for each of 2 candidates, totalling 6 fits\n",
          "name": "stdout"
        },
        {
          "output_type": "stream",
          "text": "[Parallel(n_jobs=2)]: Using backend LokyBackend with 2 concurrent workers.\n[Parallel(n_jobs=2)]: Done   6 out of   6 | elapsed:    3.0s finished\n[Parallel(n_jobs=2)]: Using backend LokyBackend with 2 concurrent workers.\n",
          "name": "stderr"
        },
        {
          "output_type": "stream",
          "text": "Running GridSearchCV for RandomForestClassifier.\nFitting 3 folds for each of 2 candidates, totalling 6 fits\n",
          "name": "stdout"
        },
        {
          "output_type": "stream",
          "text": "[Parallel(n_jobs=2)]: Done   3 out of   6 | elapsed:    0.3s remaining:    0.3s\n[Parallel(n_jobs=2)]: Done   6 out of   6 | elapsed:    0.6s finished\n[Parallel(n_jobs=2)]: Using backend LokyBackend with 2 concurrent workers.\n[Parallel(n_jobs=2)]: Done   3 out of   6 | elapsed:    0.2s remaining:    0.2s\n",
          "name": "stderr"
        },
        {
          "output_type": "stream",
          "text": "Running GridSearchCV for AdaBoostClassifier.\nFitting 3 folds for each of 2 candidates, totalling 6 fits\n",
          "name": "stdout"
        },
        {
          "output_type": "stream",
          "text": "[Parallel(n_jobs=2)]: Done   6 out of   6 | elapsed:    0.4s finished\n[Parallel(n_jobs=2)]: Using backend LokyBackend with 2 concurrent workers.\n",
          "name": "stderr"
        },
        {
          "output_type": "stream",
          "text": "Running GridSearchCV for GradientBoostingClassifier.\nFitting 3 folds for each of 4 candidates, totalling 12 fits\n",
          "name": "stdout"
        },
        {
          "output_type": "stream",
          "text": "[Parallel(n_jobs=2)]: Done  12 out of  12 | elapsed:    0.4s finished\n[Parallel(n_jobs=2)]: Using backend LokyBackend with 2 concurrent workers.\n",
          "name": "stderr"
        },
        {
          "output_type": "stream",
          "text": "Running GridSearchCV for SVC.\nFitting 3 folds for each of 6 candidates, totalling 18 fits\n",
          "name": "stdout"
        },
        {
          "output_type": "stream",
          "text": "[Parallel(n_jobs=2)]: Done  18 out of  18 | elapsed:   10.3s finished\n",
          "name": "stderr"
        }
      ]
    },
    {
      "metadata": {
        "trusted": true,
        "_uuid": "1bbd7ccc8064493fac29c539b2d59f32b3edafdf"
      },
      "cell_type": "code",
      "source": "helper1.score_summary(sort_by='max_score')",
      "execution_count": 4,
      "outputs": [
        {
          "output_type": "stream",
          "text": "ExtraTreesClassifier\nRandomForestClassifier\nAdaBoostClassifier\nGradientBoostingClassifier\nSVC\n",
          "name": "stdout"
        },
        {
          "output_type": "stream",
          "text": "/opt/conda/lib/python3.6/site-packages/ipykernel_launcher.py:53: FutureWarning: Sorting because non-concatenation axis is not aligned. A future version\nof pandas will change to not sort by default.\n\nTo accept the future behavior, pass 'sort=False'.\n\nTo retain the current behavior and silence the warning, pass 'sort=True'.\n\n",
          "name": "stderr"
        },
        {
          "output_type": "execute_result",
          "execution_count": 4,
          "data": {
            "text/plain": "                     estimator min_score     ...      learning_rate n_estimators\n5           AdaBoostClassifier  0.962343     ...                NaN           32\n4           AdaBoostClassifier   0.95279     ...                NaN           16\n3       RandomForestClassifier  0.945607     ...                NaN           32\n6   GradientBoostingClassifier  0.911504     ...                0.8           16\n2       RandomForestClassifier  0.954357     ...                NaN           16\n7   GradientBoostingClassifier  0.944206     ...                0.8           32\n9   GradientBoostingClassifier  0.954733     ...                  1           32\n10                         SVC   0.95122     ...                NaN          NaN\n0         ExtraTreesClassifier  0.962343     ...                NaN           16\n1         ExtraTreesClassifier  0.962025     ...                NaN           32\n8   GradientBoostingClassifier  0.935622     ...                  1           16\n11                         SVC  0.961373     ...                NaN          NaN\n15                         SVC  0.935484     ...                NaN          NaN\n13                         SVC  0.934959     ...                NaN          NaN\n12                         SVC  0.926407     ...                NaN          NaN\n14                         SVC  0.918455     ...                NaN          NaN\n\n[16 rows x 10 columns]",
            "text/html": "<div>\n<style scoped>\n    .dataframe tbody tr th:only-of-type {\n        vertical-align: middle;\n    }\n\n    .dataframe tbody tr th {\n        vertical-align: top;\n    }\n\n    .dataframe thead th {\n        text-align: right;\n    }\n</style>\n<table border=\"1\" class=\"dataframe\">\n  <thead>\n    <tr style=\"text-align: right;\">\n      <th></th>\n      <th>estimator</th>\n      <th>min_score</th>\n      <th>mean_score</th>\n      <th>max_score</th>\n      <th>std_score</th>\n      <th>C</th>\n      <th>gamma</th>\n      <th>kernel</th>\n      <th>learning_rate</th>\n      <th>n_estimators</th>\n    </tr>\n  </thead>\n  <tbody>\n    <tr>\n      <th>5</th>\n      <td>AdaBoostClassifier</td>\n      <td>0.962343</td>\n      <td>0.974907</td>\n      <td>0.991667</td>\n      <td>0.0123335</td>\n      <td>NaN</td>\n      <td>NaN</td>\n      <td>NaN</td>\n      <td>NaN</td>\n      <td>32</td>\n    </tr>\n    <tr>\n      <th>4</th>\n      <td>AdaBoostClassifier</td>\n      <td>0.95279</td>\n      <td>0.966463</td>\n      <td>0.983333</td>\n      <td>0.0126727</td>\n      <td>NaN</td>\n      <td>NaN</td>\n      <td>NaN</td>\n      <td>NaN</td>\n      <td>16</td>\n    </tr>\n    <tr>\n      <th>3</th>\n      <td>RandomForestClassifier</td>\n      <td>0.945607</td>\n      <td>0.96798</td>\n      <td>0.979253</td>\n      <td>0.0158203</td>\n      <td>NaN</td>\n      <td>NaN</td>\n      <td>NaN</td>\n      <td>NaN</td>\n      <td>32</td>\n    </tr>\n    <tr>\n      <th>6</th>\n      <td>GradientBoostingClassifier</td>\n      <td>0.911504</td>\n      <td>0.947192</td>\n      <td>0.979253</td>\n      <td>0.027777</td>\n      <td>NaN</td>\n      <td>NaN</td>\n      <td>NaN</td>\n      <td>0.8</td>\n      <td>16</td>\n    </tr>\n    <tr>\n      <th>2</th>\n      <td>RandomForestClassifier</td>\n      <td>0.954357</td>\n      <td>0.966592</td>\n      <td>0.975207</td>\n      <td>0.00888858</td>\n      <td>NaN</td>\n      <td>NaN</td>\n      <td>NaN</td>\n      <td>NaN</td>\n      <td>16</td>\n    </tr>\n    <tr>\n      <th>7</th>\n      <td>GradientBoostingClassifier</td>\n      <td>0.944206</td>\n      <td>0.962118</td>\n      <td>0.975207</td>\n      <td>0.0131075</td>\n      <td>NaN</td>\n      <td>NaN</td>\n      <td>NaN</td>\n      <td>0.8</td>\n      <td>32</td>\n    </tr>\n    <tr>\n      <th>9</th>\n      <td>GradientBoostingClassifier</td>\n      <td>0.954733</td>\n      <td>0.962401</td>\n      <td>0.975207</td>\n      <td>0.00911351</td>\n      <td>NaN</td>\n      <td>NaN</td>\n      <td>NaN</td>\n      <td>1</td>\n      <td>32</td>\n    </tr>\n    <tr>\n      <th>10</th>\n      <td>SVC</td>\n      <td>0.95122</td>\n      <td>0.961108</td>\n      <td>0.975207</td>\n      <td>0.0102354</td>\n      <td>1</td>\n      <td>NaN</td>\n      <td>linear</td>\n      <td>NaN</td>\n      <td>NaN</td>\n    </tr>\n    <tr>\n      <th>0</th>\n      <td>ExtraTreesClassifier</td>\n      <td>0.962343</td>\n      <td>0.968025</td>\n      <td>0.97479</td>\n      <td>0.00513876</td>\n      <td>NaN</td>\n      <td>NaN</td>\n      <td>NaN</td>\n      <td>NaN</td>\n      <td>16</td>\n    </tr>\n    <tr>\n      <th>1</th>\n      <td>ExtraTreesClassifier</td>\n      <td>0.962025</td>\n      <td>0.969193</td>\n      <td>0.974359</td>\n      <td>0.00523019</td>\n      <td>NaN</td>\n      <td>NaN</td>\n      <td>NaN</td>\n      <td>NaN</td>\n      <td>32</td>\n    </tr>\n    <tr>\n      <th>8</th>\n      <td>GradientBoostingClassifier</td>\n      <td>0.935622</td>\n      <td>0.95233</td>\n      <td>0.970954</td>\n      <td>0.0144878</td>\n      <td>NaN</td>\n      <td>NaN</td>\n      <td>NaN</td>\n      <td>1</td>\n      <td>16</td>\n    </tr>\n    <tr>\n      <th>11</th>\n      <td>SVC</td>\n      <td>0.961373</td>\n      <td>0.963747</td>\n      <td>0.967213</td>\n      <td>0.00250593</td>\n      <td>10</td>\n      <td>NaN</td>\n      <td>linear</td>\n      <td>NaN</td>\n      <td>NaN</td>\n    </tr>\n    <tr>\n      <th>15</th>\n      <td>SVC</td>\n      <td>0.935484</td>\n      <td>0.945366</td>\n      <td>0.955466</td>\n      <td>0.00815896</td>\n      <td>10</td>\n      <td>0.0001</td>\n      <td>rbf</td>\n      <td>NaN</td>\n      <td>NaN</td>\n    </tr>\n    <tr>\n      <th>13</th>\n      <td>SVC</td>\n      <td>0.934959</td>\n      <td>0.946564</td>\n      <td>0.954733</td>\n      <td>0.00843008</td>\n      <td>1</td>\n      <td>0.0001</td>\n      <td>rbf</td>\n      <td>NaN</td>\n      <td>NaN</td>\n    </tr>\n    <tr>\n      <th>12</th>\n      <td>SVC</td>\n      <td>0.926407</td>\n      <td>0.936624</td>\n      <td>0.94958</td>\n      <td>0.00965657</td>\n      <td>1</td>\n      <td>0.001</td>\n      <td>rbf</td>\n      <td>NaN</td>\n      <td>NaN</td>\n    </tr>\n    <tr>\n      <th>14</th>\n      <td>SVC</td>\n      <td>0.918455</td>\n      <td>0.929334</td>\n      <td>0.940678</td>\n      <td>0.00907845</td>\n      <td>10</td>\n      <td>0.001</td>\n      <td>rbf</td>\n      <td>NaN</td>\n      <td>NaN</td>\n    </tr>\n  </tbody>\n</table>\n</div>"
          },
          "metadata": {}
        }
      ]
    }
  ],
  "metadata": {
    "kernelspec": {
      "display_name": "Python 3",
      "language": "python",
      "name": "python3"
    },
    "language_info": {
      "name": "python",
      "version": "3.6.6",
      "mimetype": "text/x-python",
      "codemirror_mode": {
        "name": "ipython",
        "version": 3
      },
      "pygments_lexer": "ipython3",
      "nbconvert_exporter": "python",
      "file_extension": ".py"
    }
  },
  "nbformat": 4,
  "nbformat_minor": 1
}