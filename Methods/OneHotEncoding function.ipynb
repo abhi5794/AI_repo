{
  "cells": [
    {
      "metadata": {
        "_uuid": "8f2839f25d086af736a60e9eeb907d3b93b6e0e5",
        "_cell_guid": "b1076dfc-b9ad-4769-8c92-a6c4dae69d19",
        "trusted": true
      },
      "cell_type": "code",
      "source": "from sklearn.preprocessing import OneHotEncoder",
      "execution_count": 1,
      "outputs": []
    },
    {
      "metadata": {
        "_cell_guid": "79c7e3d0-c299-4dcb-8224-4455121ee9b0",
        "collapsed": true,
        "_uuid": "d629ff2d2480ee46fbb7e2d37f6b5fab8052498a",
        "trusted": false
      },
      "cell_type": "code",
      "source": "def ohe(train,features):\n    \"\"\"\n    The functions takes the df with the list of arguments to be one hot encoded and returns a df\n    train is the df and features is a list\n    \"\"\"\n    for v in features:\n        df = train[v].values\n        train = train.drop([v],axis=1)\n        oh = OneHotEncoder(sparse=False)\n        df = df.reshape(len(df),1)\n        df = oh.fit_transform(df)\n        df = df[:,1:]\n        train.reset_index(inplace=True, drop=True)\n        train = pd.concat([train,pd.DataFrame(df)],axis=1,sort=False)\n    return train",
      "execution_count": null,
      "outputs": []
    }
  ],
  "metadata": {
    "kernelspec": {
      "display_name": "Python 3",
      "language": "python",
      "name": "python3"
    },
    "language_info": {
      "name": "python",
      "version": "3.6.6",
      "mimetype": "text/x-python",
      "codemirror_mode": {
        "name": "ipython",
        "version": 3
      },
      "pygments_lexer": "ipython3",
      "nbconvert_exporter": "python",
      "file_extension": ".py"
    }
  },
  "nbformat": 4,
  "nbformat_minor": 1
}
