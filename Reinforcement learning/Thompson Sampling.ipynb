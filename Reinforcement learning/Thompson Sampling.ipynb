{
 "cells": [
  {
   "cell_type": "markdown",
   "metadata": {},
   "source": [
    "# Steps\n",
    "1. Standard imports\n",
    "2. Data preprocessing and feature engineering"
   ]
  },
  {
   "cell_type": "markdown",
   "metadata": {},
   "source": [
    "# Implementation\n",
    "<img src = \"files/Thompson_Sampling_Slide.png\">"
   ]
  },
  {
   "cell_type": "code",
   "execution_count": null,
   "metadata": {},
   "outputs": [],
   "source": [
    "import random\n",
    "N = 1000 # no. rounds\n",
    "d = 5 # no. of selection\n",
    "ads_selected = []\n",
    "N1 = [0] * d # initialize the vectors to 0\n",
    "N0 = [0] * d\n",
    "total_reward = 0\n",
    "for n in range(0, N):\n",
    "    max_ = 0 # for each N we need to reset it\n",
    "    ad_i = 0\n",
    "    for i in range(0, d):\n",
    "        beta = random.betavariate(N1[i] + 1, N0[i] + 1)\n",
    "        if beta > max_:\n",
    "            max_ = beta\n",
    "            ad_i = i\n",
    "    ads_selected.append(ad_i)\n",
    "    reward = dataset.values[n, ad_i]\n",
    "    if reward == 1:\n",
    "        N1[ad_i] + = 1\n",
    "    else:\n",
    "        N0[ad_i] + = 1\n",
    "    total_reward + = reward"
   ]
  },
  {
   "cell_type": "markdown",
   "metadata": {},
   "source": [
    "# Visualization"
   ]
  },
  {
   "cell_type": "code",
   "execution_count": null,
   "metadata": {},
   "outputs": [],
   "source": [
    "plt.hist(ads_selected)\n",
    "plt.title('Histogram')\n",
    "plt.xlabel('_')\n",
    "plt.ylabel('Number of times each _ was selected')\n",
    "plt.show()"
   ]
  }
 ],
 "metadata": {
  "kernelspec": {
   "display_name": "Python 3",
   "language": "python",
   "name": "python3"
  },
  "language_info": {
   "codemirror_mode": {
    "name": "ipython",
    "version": 3
   },
   "file_extension": ".py",
   "mimetype": "text/x-python",
   "name": "python",
   "nbconvert_exporter": "python",
   "pygments_lexer": "ipython3",
   "version": "3.6.4"
  }
 },
 "nbformat": 4,
 "nbformat_minor": 2
}
