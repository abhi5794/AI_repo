{
 "cells": [
  {
   "cell_type": "markdown",
   "metadata": {
    "collapsed": true
   },
   "source": [
    "This is used when you are dealing with a class imbalance. The below method makes sure that the proportion of class labels in test and train is approximately equal. "
   ]
  },
  {
   "cell_type": "markdown",
   "metadata": {},
   "source": [
    "This can also be used if you are not a fan of SMOTE."
   ]
  },
  {
   "cell_type": "code",
   "execution_count": 3,
   "metadata": {},
   "outputs": [],
   "source": [
    "from sklearn.model_selection import StratifiedShuffleSplit\n",
    "from sklearn.metrics import accuracy_score,roc_auc_score\n",
    "def validate(data, labels):\n",
    "    '''\n",
    "    Ten-fold cross-validation with stratified sampling.\n",
    "    Returned metrics : Accuracy\n",
    "    '''\n",
    "    accuracy_scores = []\n",
    "    roc_auc_score = []\n",
    "\n",
    "    sss = StratifiedShuffleSplit(n_splits=10)\n",
    "    for train_index, test_index in sss.split(data, labels):\n",
    "        x_train, x_test = data[train_index], data[test_index]\n",
    "        y_train, y_test = labels[train_index], labels[test_index]\n",
    "        clf.fit(x_train, y_train)\n",
    "        y_pred = clf.predict(x_test)\n",
    "        accuracy_scores.append(accuracy_score(y_test, y_pred))\n",
    "        roc_auc_score.append(roc_auc_score(y_test,y_pred))\n",
    "\n",
    "    print('Accuracy', np.mean(accuracy_scores))\n",
    "    print('ROC',np.mean(roc_auc_score))"
   ]
  },
  {
   "cell_type": "code",
   "execution_count": null,
   "metadata": {},
   "outputs": [],
   "source": []
  }
 ],
 "metadata": {
  "kernelspec": {
   "display_name": "Python 3",
   "language": "python",
   "name": "python3"
  },
  "language_info": {
   "codemirror_mode": {
    "name": "ipython",
    "version": 3
   },
   "file_extension": ".py",
   "mimetype": "text/x-python",
   "name": "python",
   "nbconvert_exporter": "python",
   "pygments_lexer": "ipython3",
   "version": "3.6.4"
  }
 },
 "nbformat": 4,
 "nbformat_minor": 2
}
