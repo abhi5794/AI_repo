{
  "cells": [
    {
      "metadata": {
        "trusted": true,
        "_uuid": "62ce1140a09fb9c91c5e02aaf578d8ff8b365d4a"
      },
      "cell_type": "code",
      "source": "# SVC try \n# OneHotEncoding\n# GridSearch and class_weights\n# grid search for the best kernel\n# limiting data to 10,000\n# run with the results from grid search\n# using best results {'C': 1.0, 'degree': 3.0, 'gamma': 4.0}\n# Reducing the sample size to 50,000 entries for Grid Search\n# accuracy round 4\n# final",
      "execution_count": 1,
      "outputs": []
    },
    {
      "metadata": {
        "_uuid": "8f2839f25d086af736a60e9eeb907d3b93b6e0e5",
        "_cell_guid": "b1076dfc-b9ad-4769-8c92-a6c4dae69d19",
        "trusted": true
      },
      "cell_type": "code",
      "source": "%env JOBLIB_TEMP_FOLDER=/tmp\n%matplotlib inline\n%reload_ext autoreload\n%autoreload 2\nimport numpy as np\nimport pandas as pd\nimport matplotlib.pyplot as plt\nimport seaborn as sns\nimport lightgbm as lgb\n\nfrom sklearn.model_selection import train_test_split , GridSearchCV\nfrom sklearn.preprocessing import LabelEncoder, OneHotEncoder\nfrom sklearn.metrics import accuracy_score, f1_score\n\nfrom fastai.structured import *\nfrom fastai.column_data import *\nfrom sklearn.svm import SVC\nfrom sklearn import preprocessing\n\nimport warnings\nwarnings.filterwarnings('ignore')",
      "execution_count": 2,
      "outputs": [
        {
          "output_type": "stream",
          "text": "env: JOBLIB_TEMP_FOLDER=/tmp\n",
          "name": "stdout"
        },
        {
          "output_type": "stream",
          "text": "/opt/conda/lib/python3.6/site-packages/sklearn/ensemble/weight_boosting.py:29: DeprecationWarning: numpy.core.umath_tests is an internal NumPy module and should not be imported. It will be removed in a future NumPy release.\n  from numpy.core.umath_tests import inner1d\n",
          "name": "stderr"
        }
      ]
    },
    {
      "metadata": {
        "_cell_guid": "79c7e3d0-c299-4dcb-8224-4455121ee9b0",
        "_uuid": "d629ff2d2480ee46fbb7e2d37f6b5fab8052498a",
        "trusted": true
      },
      "cell_type": "code",
      "source": "# Importing the data\ndata = pd.read_csv('../input/globalterrorismdb_0718dist.csv',engine = 'python')",
      "execution_count": 3,
      "outputs": []
    },
    {
      "metadata": {
        "trusted": true,
        "_uuid": "1f51702bd69be6838d62b7d9272b53621fcf0bc5"
      },
      "cell_type": "code",
      "source": "# There appears to be a lot of string and binary data\ndata.head(2)",
      "execution_count": 4,
      "outputs": [
        {
          "output_type": "execute_result",
          "execution_count": 4,
          "data": {
            "text/plain": "        eventid  iyear  imonth  iday   ...    INT_IDEO  INT_MISC INT_ANY  related\n0  197000000001   1970       7     2   ...           0         0       0      NaN\n1  197000000002   1970       0     0   ...           1         1       1      NaN\n\n[2 rows x 135 columns]",
            "text/html": "<div>\n<style scoped>\n    .dataframe tbody tr th:only-of-type {\n        vertical-align: middle;\n    }\n\n    .dataframe tbody tr th {\n        vertical-align: top;\n    }\n\n    .dataframe thead th {\n        text-align: right;\n    }\n</style>\n<table border=\"1\" class=\"dataframe\">\n  <thead>\n    <tr style=\"text-align: right;\">\n      <th></th>\n      <th>eventid</th>\n      <th>iyear</th>\n      <th>imonth</th>\n      <th>iday</th>\n      <th>approxdate</th>\n      <th>extended</th>\n      <th>resolution</th>\n      <th>country</th>\n      <th>country_txt</th>\n      <th>region</th>\n      <th>region_txt</th>\n      <th>provstate</th>\n      <th>city</th>\n      <th>latitude</th>\n      <th>longitude</th>\n      <th>specificity</th>\n      <th>vicinity</th>\n      <th>location</th>\n      <th>summary</th>\n      <th>crit1</th>\n      <th>crit2</th>\n      <th>crit3</th>\n      <th>doubtterr</th>\n      <th>alternative</th>\n      <th>alternative_txt</th>\n      <th>multiple</th>\n      <th>success</th>\n      <th>suicide</th>\n      <th>attacktype1</th>\n      <th>attacktype1_txt</th>\n      <th>attacktype2</th>\n      <th>attacktype2_txt</th>\n      <th>attacktype3</th>\n      <th>attacktype3_txt</th>\n      <th>targtype1</th>\n      <th>targtype1_txt</th>\n      <th>targsubtype1</th>\n      <th>targsubtype1_txt</th>\n      <th>corp1</th>\n      <th>target1</th>\n      <th>...</th>\n      <th>weapsubtype4</th>\n      <th>weapsubtype4_txt</th>\n      <th>weapdetail</th>\n      <th>nkill</th>\n      <th>nkillus</th>\n      <th>nkillter</th>\n      <th>nwound</th>\n      <th>nwoundus</th>\n      <th>nwoundte</th>\n      <th>property</th>\n      <th>propextent</th>\n      <th>propextent_txt</th>\n      <th>propvalue</th>\n      <th>propcomment</th>\n      <th>ishostkid</th>\n      <th>nhostkid</th>\n      <th>nhostkidus</th>\n      <th>nhours</th>\n      <th>ndays</th>\n      <th>divert</th>\n      <th>kidhijcountry</th>\n      <th>ransom</th>\n      <th>ransomamt</th>\n      <th>ransomamtus</th>\n      <th>ransompaid</th>\n      <th>ransompaidus</th>\n      <th>ransomnote</th>\n      <th>hostkidoutcome</th>\n      <th>hostkidoutcome_txt</th>\n      <th>nreleased</th>\n      <th>addnotes</th>\n      <th>scite1</th>\n      <th>scite2</th>\n      <th>scite3</th>\n      <th>dbsource</th>\n      <th>INT_LOG</th>\n      <th>INT_IDEO</th>\n      <th>INT_MISC</th>\n      <th>INT_ANY</th>\n      <th>related</th>\n    </tr>\n  </thead>\n  <tbody>\n    <tr>\n      <th>0</th>\n      <td>197000000001</td>\n      <td>1970</td>\n      <td>7</td>\n      <td>2</td>\n      <td>NaN</td>\n      <td>0</td>\n      <td>NaN</td>\n      <td>58</td>\n      <td>Dominican Republic</td>\n      <td>2</td>\n      <td>Central America &amp; Caribbean</td>\n      <td>NaN</td>\n      <td>Santo Domingo</td>\n      <td>18.456792</td>\n      <td>-69.951164</td>\n      <td>1.0</td>\n      <td>0</td>\n      <td>NaN</td>\n      <td>NaN</td>\n      <td>1</td>\n      <td>1</td>\n      <td>1</td>\n      <td>0.0</td>\n      <td>NaN</td>\n      <td>NaN</td>\n      <td>0.0</td>\n      <td>1</td>\n      <td>0</td>\n      <td>1</td>\n      <td>Assassination</td>\n      <td>NaN</td>\n      <td>NaN</td>\n      <td>NaN</td>\n      <td>NaN</td>\n      <td>14</td>\n      <td>Private Citizens &amp; Property</td>\n      <td>68.0</td>\n      <td>Named Civilian</td>\n      <td>NaN</td>\n      <td>Julio Guzman</td>\n      <td>...</td>\n      <td>NaN</td>\n      <td>NaN</td>\n      <td>NaN</td>\n      <td>1.0</td>\n      <td>NaN</td>\n      <td>NaN</td>\n      <td>0.0</td>\n      <td>NaN</td>\n      <td>NaN</td>\n      <td>0</td>\n      <td>NaN</td>\n      <td>NaN</td>\n      <td>NaN</td>\n      <td>NaN</td>\n      <td>0.0</td>\n      <td>NaN</td>\n      <td>NaN</td>\n      <td>NaN</td>\n      <td>NaN</td>\n      <td>NaN</td>\n      <td>NaN</td>\n      <td>0.0</td>\n      <td>NaN</td>\n      <td>NaN</td>\n      <td>NaN</td>\n      <td>NaN</td>\n      <td>NaN</td>\n      <td>NaN</td>\n      <td>NaN</td>\n      <td>NaN</td>\n      <td>NaN</td>\n      <td>NaN</td>\n      <td>NaN</td>\n      <td>NaN</td>\n      <td>PGIS</td>\n      <td>0</td>\n      <td>0</td>\n      <td>0</td>\n      <td>0</td>\n      <td>NaN</td>\n    </tr>\n    <tr>\n      <th>1</th>\n      <td>197000000002</td>\n      <td>1970</td>\n      <td>0</td>\n      <td>0</td>\n      <td>NaN</td>\n      <td>0</td>\n      <td>NaN</td>\n      <td>130</td>\n      <td>Mexico</td>\n      <td>1</td>\n      <td>North America</td>\n      <td>Federal</td>\n      <td>Mexico city</td>\n      <td>19.371887</td>\n      <td>-99.086624</td>\n      <td>1.0</td>\n      <td>0</td>\n      <td>NaN</td>\n      <td>NaN</td>\n      <td>1</td>\n      <td>1</td>\n      <td>1</td>\n      <td>0.0</td>\n      <td>NaN</td>\n      <td>NaN</td>\n      <td>0.0</td>\n      <td>1</td>\n      <td>0</td>\n      <td>6</td>\n      <td>Hostage Taking (Kidnapping)</td>\n      <td>NaN</td>\n      <td>NaN</td>\n      <td>NaN</td>\n      <td>NaN</td>\n      <td>7</td>\n      <td>Government (Diplomatic)</td>\n      <td>45.0</td>\n      <td>Diplomatic Personnel (outside of embassy, cons...</td>\n      <td>Belgian Ambassador Daughter</td>\n      <td>Nadine Chaval, daughter</td>\n      <td>...</td>\n      <td>NaN</td>\n      <td>NaN</td>\n      <td>NaN</td>\n      <td>0.0</td>\n      <td>NaN</td>\n      <td>NaN</td>\n      <td>0.0</td>\n      <td>NaN</td>\n      <td>NaN</td>\n      <td>0</td>\n      <td>NaN</td>\n      <td>NaN</td>\n      <td>NaN</td>\n      <td>NaN</td>\n      <td>1.0</td>\n      <td>1.0</td>\n      <td>0.0</td>\n      <td>NaN</td>\n      <td>NaN</td>\n      <td>NaN</td>\n      <td>Mexico</td>\n      <td>1.0</td>\n      <td>800000.0</td>\n      <td>NaN</td>\n      <td>NaN</td>\n      <td>NaN</td>\n      <td>NaN</td>\n      <td>NaN</td>\n      <td>NaN</td>\n      <td>NaN</td>\n      <td>NaN</td>\n      <td>NaN</td>\n      <td>NaN</td>\n      <td>NaN</td>\n      <td>PGIS</td>\n      <td>0</td>\n      <td>1</td>\n      <td>1</td>\n      <td>1</td>\n      <td>NaN</td>\n    </tr>\n  </tbody>\n</table>\n</div>"
          },
          "metadata": {}
        }
      ]
    },
    {
      "metadata": {
        "trusted": true,
        "_uuid": "9ac69f84bce9d684c0d0ba30fb561eed659ca769"
      },
      "cell_type": "code",
      "source": "# So there are close to 2 Lakh entries and 135 features\ndata.shape",
      "execution_count": 5,
      "outputs": [
        {
          "output_type": "execute_result",
          "execution_count": 5,
          "data": {
            "text/plain": "(181691, 135)"
          },
          "metadata": {}
        }
      ]
    },
    {
      "metadata": {
        "trusted": true,
        "_uuid": "a27760322dee17315cca3edf87706bb7741397e6"
      },
      "cell_type": "markdown",
      "source": "# List of Steps\n1. Pre Processing\n2. Visualizing \n3. Removing outliers\n4. Validation split\n5. Training the model\n6. Making the final prediction"
    },
    {
      "metadata": {
        "_uuid": "574f40880dacb65efb69c8741fb833ef530020db"
      },
      "cell_type": "markdown",
      "source": "# Pre Processing "
    },
    {
      "metadata": {
        "trusted": true,
        "_uuid": "3458b546f370c48a5400d9b3ece15c1c887ccc13"
      },
      "cell_type": "code",
      "source": "# There are a lot of null values which will be eliminated.\nprint(data.isnull().sum().to_frame().sort_values(0,ascending=False))",
      "execution_count": 6,
      "outputs": [
        {
          "output_type": "stream",
          "text": "                       0\ngsubname3         181671\nweapsubtype4_txt  181621\nweapsubtype4      181621\nweaptype4         181618\nweaptype4_txt     181618\nclaimmode3        181558\nclaimmode3_txt    181558\ngsubname2         181531\nclaim3            181373\nguncertain3       181371\ngname3            181367\ndivert            181367\nattacktype3       181263\nattacktype3_txt   181263\nransomnote        181177\nransompaidus      181139\nransomamtus       181128\nclaimmode2        181075\nclaimmode2_txt    181075\nransompaid        180917\ncorp3             180665\ntargsubtype3      180594\ntargsubtype3_txt  180594\nnatlty3_txt       180544\nnatlty3           180544\ntarget3           180516\ntargtype3         180515\ntargtype3_txt     180515\nransomamt         180341\nweapsubtype3_txt  179998\n...                  ...\nmultiple               1\ncrit1                  0\niyear                  0\niday                   0\nimonth                 0\ntargtype1_txt          0\ngname                  0\nindividual             0\ndbsource               0\ncountry                0\nINT_LOG                0\nINT_IDEO               0\nINT_MISC               0\nINT_ANY                0\nextended               0\nregion_txt             0\ncountry_txt            0\nregion                 0\ncrit2                  0\ntargtype1              0\nweaptype1              0\nweaptype1_txt          0\nattacktype1_txt        0\nattacktype1            0\nvicinity               0\nsuicide                0\nsuccess                0\ncrit3                  0\nproperty               0\neventid                0\n\n[135 rows x 1 columns]\n",
          "name": "stdout"
        }
      ]
    },
    {
      "metadata": {
        "trusted": true,
        "_uuid": "f1ebf9e1b687e872ada71a29df4cdfb297959768"
      },
      "cell_type": "code",
      "source": "# Get the count of attacks from that event\ndata['count'] = data['eventid'].astype(str).str.slice(-2,).map(lambda x : int(x))\n\n# Standardizing the year\ndata.iyear = data.iyear.apply(lambda x: 2018-x)",
      "execution_count": 7,
      "outputs": []
    },
    {
      "metadata": {
        "trusted": true,
        "_uuid": "8d45ce423c3f7805ac2ca0bfee0e054cf5bd16e0"
      },
      "cell_type": "code",
      "source": "# Categorical variable list : Nomial - 0 or 1 answer\ncat_no = ['extended','crit1','crit2','crit3','doubtterr','multiple','country','region','specificity','attacktype1','success',\n          'suicide','weaptype1','weapsubtype1','targtype1','targsubtype1','natlty1','guncertain1',\n         'claimed','property','ishostkid','ransom','INT_LOG','INT_IDEO']\n\n#Continous variable list\n#nperpcap is removed due to sparsity \ncont = ['count', 'iyear','imonth','iday','latitude','longitude','nperps','nkill','nkillus']\n\ntarget = ['gname']\n\nids = ['eventid']\n\n# Converting it into int\n# -9 is replacing NA values as the same was followed when fillig the data\nfor v in cat_no:\n    data[v] = data[v].fillna(-9).astype('int32')\n\n# Replacing the negative categories\ndata[cat_no] = data[cat_no].replace(-9,0).astype('int32')\n\n# Coverting it into continous variables\nfor v in cont:\n    data[v] = data[v].fillna(0).astype('float32')\n\n# Replacing missing values with zero, the unknown values will be replaced with 0\ndata[['nperps','nkill','nkillus']] = data[['nperps','nkill','nkillus']].replace(to_replace=[-99,-9],value=0).astype('float32')\n\n# Consolidating it\ndata = data[ids+cat_no+cont+target]",
      "execution_count": 8,
      "outputs": []
    },
    {
      "metadata": {
        "trusted": true,
        "_uuid": "9f975b9eb0aa1346fdfbd36f3bfdd94463ac56f7"
      },
      "cell_type": "code",
      "source": "# Test set split\ntest = data[data['gname']=='Unknown']\ntest['gname'] = -999\n\n# Training set split\ntrain = data[data['gname']!='Unknown']\n\n# Label encoding gname\nle = LabelEncoder()\nle.fit(train['gname'])\ntrain['gname'] = le.transform(train['gname'])",
      "execution_count": 9,
      "outputs": []
    },
    {
      "metadata": {
        "trusted": true,
        "_uuid": "1acb98ac0a0821813b5fd01f469c816078dc87d8"
      },
      "cell_type": "code",
      "source": "train = pd.concat([train,test],axis=0)\ntrain = train.reset_index(drop=True)",
      "execution_count": 10,
      "outputs": []
    },
    {
      "metadata": {
        "_uuid": "ba0796b31d0486c71d63c7d80381a0208dc6d107"
      },
      "cell_type": "markdown",
      "source": "# Visualizing "
    },
    {
      "metadata": {
        "trusted": true,
        "_uuid": "7ff5db369fe04b863505fbb6f53850670067c245"
      },
      "cell_type": "code",
      "source": "# Let's look at the distribution \n# The class distribution is not even and most of the data is missing\nsns.distplot(train.gname)",
      "execution_count": 11,
      "outputs": [
        {
          "output_type": "execute_result",
          "execution_count": 11,
          "data": {
            "text/plain": "<matplotlib.axes._subplots.AxesSubplot at 0x7f362ebb56d8>"
          },
          "metadata": {}
        },
        {
          "output_type": "display_data",
          "data": {
            "text/plain": "<Figure size 432x288 with 1 Axes>",
            "image/png": "[encoded data removed]"
          },
          "metadata": {
            "needs_background": "light"
          }
        }
      ]
    },
    {
      "metadata": {
        "trusted": true,
        "_uuid": "37d6fa925f226a2618e28e0a5a6d87b549b6e9fa"
      },
      "cell_type": "code",
      "source": "# Lets look at the correlation plot\n# We can see that the variables iyear and count have multicollinearity and so does nkill and nkillus.\n# The correlation index is not high so we can keep them.\ncorrmat = train.corr()\nsns.heatmap(corrmat,vmin=0)",
      "execution_count": 12,
      "outputs": [
        {
          "output_type": "execute_result",
          "execution_count": 12,
          "data": {
            "text/plain": "<matplotlib.axes._subplots.AxesSubplot at 0x7f362ebc8e48>"
          },
          "metadata": {}
        },
        {
          "output_type": "display_data",
          "data": {
            "text/plain": "<Figure size 432x288 with 2 Axes>",
            "image/png": "[encoded data removed]"
          },
          "metadata": {
            "needs_background": "light"
          }
        }
      ]
    },
    {
      "metadata": {
        "_uuid": "39abef51d9569591fc2f8ce74fcf140577d2ca53"
      },
      "cell_type": "markdown",
      "source": "## Removing Outliers\n"
    },
    {
      "metadata": {
        "trusted": true,
        "_uuid": "4d7ce1e5426d654c11696f3dc29f81e6e775f10b"
      },
      "cell_type": "code",
      "source": "# 10000 nperps is a large value by any stretch of imagination, so we will be dropping it\n# removing entries with nkill > 500 Y& nkillus > 500\ntrain[['nkill','nkillus','nperps']].describe()",
      "execution_count": 13,
      "outputs": [
        {
          "output_type": "execute_result",
          "execution_count": 13,
          "data": {
            "text/plain": "               nkill        nkillus         nperps\ncount  181691.000000  181691.000000  181691.000000\nmean        2.266860       0.029671       5.020750\nstd        11.241676       4.564241     163.268997\nmin         0.000000       0.000000       0.000000\n25%         0.000000       0.000000       0.000000\n50%         0.000000       0.000000       0.000000\n75%         2.000000       0.000000       0.000000\nmax      1570.000000    1360.000000   25000.000000",
            "text/html": "<div>\n<style scoped>\n    .dataframe tbody tr th:only-of-type {\n        vertical-align: middle;\n    }\n\n    .dataframe tbody tr th {\n        vertical-align: top;\n    }\n\n    .dataframe thead th {\n        text-align: right;\n    }\n</style>\n<table border=\"1\" class=\"dataframe\">\n  <thead>\n    <tr style=\"text-align: right;\">\n      <th></th>\n      <th>nkill</th>\n      <th>nkillus</th>\n      <th>nperps</th>\n    </tr>\n  </thead>\n  <tbody>\n    <tr>\n      <th>count</th>\n      <td>181691.000000</td>\n      <td>181691.000000</td>\n      <td>181691.000000</td>\n    </tr>\n    <tr>\n      <th>mean</th>\n      <td>2.266860</td>\n      <td>0.029671</td>\n      <td>5.020750</td>\n    </tr>\n    <tr>\n      <th>std</th>\n      <td>11.241676</td>\n      <td>4.564241</td>\n      <td>163.268997</td>\n    </tr>\n    <tr>\n      <th>min</th>\n      <td>0.000000</td>\n      <td>0.000000</td>\n      <td>0.000000</td>\n    </tr>\n    <tr>\n      <th>25%</th>\n      <td>0.000000</td>\n      <td>0.000000</td>\n      <td>0.000000</td>\n    </tr>\n    <tr>\n      <th>50%</th>\n      <td>0.000000</td>\n      <td>0.000000</td>\n      <td>0.000000</td>\n    </tr>\n    <tr>\n      <th>75%</th>\n      <td>2.000000</td>\n      <td>0.000000</td>\n      <td>0.000000</td>\n    </tr>\n    <tr>\n      <th>max</th>\n      <td>1570.000000</td>\n      <td>1360.000000</td>\n      <td>25000.000000</td>\n    </tr>\n  </tbody>\n</table>\n</div>"
          },
          "metadata": {}
        }
      ]
    },
    {
      "metadata": {
        "trusted": true,
        "_uuid": "de204eea375c7b27af2568c63fbbfd6bdc650ee5"
      },
      "cell_type": "code",
      "source": "train = train[(train.nperps<10000)]\ntest = test[(test.nperps<10000)]\n\ntrain = train[(train.nkill<500)]\ntest = test[(test.nkill<500)]\n\ntrain = train[(train.nkillus<500)]\ntest = test[(test.nkillus<500)]",
      "execution_count": 14,
      "outputs": []
    },
    {
      "metadata": {
        "trusted": true,
        "_uuid": "706c66144b4b5ba370d6bba05d58bc722f06b0d4"
      },
      "cell_type": "code",
      "source": "# Creating a df to get the size\nsize_train = train.groupby('gname').size().to_frame().sort_values(0,ascending=False)\nsize_train.describe()",
      "execution_count": 15,
      "outputs": [
        {
          "output_type": "execute_result",
          "execution_count": 15,
          "data": {
            "text/plain": "                  0\ncount   3537.000000\nmean      51.355386\nstd     1410.777254\nmin        1.000000\n25%        1.000000\n50%        2.000000\n75%        5.000000\nmax    82782.000000",
            "text/html": "<div>\n<style scoped>\n    .dataframe tbody tr th:only-of-type {\n        vertical-align: middle;\n    }\n\n    .dataframe tbody tr th {\n        vertical-align: top;\n    }\n\n    .dataframe thead th {\n        text-align: right;\n    }\n</style>\n<table border=\"1\" class=\"dataframe\">\n  <thead>\n    <tr style=\"text-align: right;\">\n      <th></th>\n      <th>0</th>\n    </tr>\n  </thead>\n  <tbody>\n    <tr>\n      <th>count</th>\n      <td>3537.000000</td>\n    </tr>\n    <tr>\n      <th>mean</th>\n      <td>51.355386</td>\n    </tr>\n    <tr>\n      <th>std</th>\n      <td>1410.777254</td>\n    </tr>\n    <tr>\n      <th>min</th>\n      <td>1.000000</td>\n    </tr>\n    <tr>\n      <th>25%</th>\n      <td>1.000000</td>\n    </tr>\n    <tr>\n      <th>50%</th>\n      <td>2.000000</td>\n    </tr>\n    <tr>\n      <th>75%</th>\n      <td>5.000000</td>\n    </tr>\n    <tr>\n      <th>max</th>\n      <td>82782.000000</td>\n    </tr>\n  </tbody>\n</table>\n</div>"
          },
          "metadata": {}
        }
      ]
    },
    {
      "metadata": {
        "trusted": true,
        "_uuid": "01ad45ded1f947644011f4a1d332c2be37387c53"
      },
      "cell_type": "code",
      "source": "# Keeping only the values that have incidents below 50\ntrain = train.drop(list(size_train[size_train[0]<50].index),axis=0)",
      "execution_count": 16,
      "outputs": []
    },
    {
      "metadata": {
        "trusted": true,
        "_uuid": "696ba28088913fa19361639ce33d417e96c75393"
      },
      "cell_type": "code",
      "source": "# The data is highly imbalanced, if the compute limit for kaggle was not limited to 6 hrs then Oversampling would have\n# been performed for the minority class\ntrain[train.gname != -999].gname.hist(bins=100)",
      "execution_count": 18,
      "outputs": [
        {
          "output_type": "execute_result",
          "execution_count": 18,
          "data": {
            "text/plain": "<matplotlib.axes._subplots.AxesSubplot at 0x7f362ecc9048>"
          },
          "metadata": {}
        },
        {
          "output_type": "display_data",
          "data": {
            "text/plain": "<Figure size 432x288 with 1 Axes>",
            "image/png": "[encoded data removed]"
          },
          "metadata": {
            "needs_background": "light"
          }
        }
      ]
    },
    {
      "metadata": {
        "_uuid": "f7a34cc3f9a3d5caa8587e9fe7be03acd063461e"
      },
      "cell_type": "markdown",
      "source": "# Validation split"
    },
    {
      "metadata": {
        "trusted": true,
        "_uuid": "d005e7992a537508058ede85b7ad8ec54a77b644"
      },
      "cell_type": "code",
      "source": "# Using the proc_df to scales the continous variables, they will be combined again\ntrain, train_y, nas, mapper = proc_df(train, 'gname', do_scale=True,ignore_flds=['eventid','extended','crit1','crit2',\n                                                                                 'crit3','doubtterr','multiple','country','region',\n                                                                                 'specificity','attacktype1','success','suicide',\n                                                                                 'weaptype1','weapsubtype1','targtype1','targsubtype1',\n                                                                                 'natlty1','guncertain1','claimed','property','ishostkid',\n                                                                                 'ransom','INT_LOG','INT_IDEO'])\n\ntrain = train.reset_index(drop=True)\ntrain = pd.concat([train,pd.DataFrame(train_y)],axis=1,join_axes=[train.index])\ntrain=train.rename(index=str,columns={0:'gname'})\ntrain = train.reset_index(drop=True)",
      "execution_count": 19,
      "outputs": []
    },
    {
      "metadata": {
        "trusted": true,
        "_uuid": "afdccb0c2b64d122bde9d08f23ef997e7dbc700b"
      },
      "cell_type": "code",
      "source": "# Creating a function to oneHotEncode all the categorical variables since there are not ordinal\ndef ohe(train,features):\n    \"\"\"\n    The functions takes the df with the list of arguments to be one hot encoded and returns a df\n    train is the df and features is a list\n    \"\"\"\n    for v in features:\n        df = train[v].values\n        train = train.drop([v],axis=1)\n        oh = OneHotEncoder(sparse=False)\n        df = df.reshape(len(df),1)\n        df = oh.fit_transform(df)\n        df = df[:,1:]\n        train = pd.concat([train,pd.DataFrame(df)],axis=1,sort=False)\n    return train",
      "execution_count": 20,
      "outputs": []
    },
    {
      "metadata": {
        "trusted": true,
        "_uuid": "ff0b5bb30026a0d279161080b3388ebc8c6df31c"
      },
      "cell_type": "code",
      "source": "train = ohe(train,['country','region','specificity','attacktype1','weaptype1','weapsubtype1','targtype1','targsubtype1','natlty1'])",
      "execution_count": 21,
      "outputs": []
    },
    {
      "metadata": {
        "trusted": true,
        "_uuid": "1806a42e03be3bf4af4d3d6a41284855b05ccf04"
      },
      "cell_type": "code",
      "source": "train.shape",
      "execution_count": 22,
      "outputs": [
        {
          "output_type": "execute_result",
          "execution_count": 22,
          "data": {
            "text/plain": "(178318, 642)"
          },
          "metadata": {}
        }
      ]
    },
    {
      "metadata": {
        "trusted": true,
        "_uuid": "fb2a2f69d9872d3dc5313ae355b5005b591b032c"
      },
      "cell_type": "code",
      "source": "# Looking at the final DataFrame\ntrain.head()",
      "execution_count": 24,
      "outputs": [
        {
          "output_type": "execute_result",
          "execution_count": 24,
          "data": {
            "text/plain": "        eventid  extended  crit1  crit2  crit3 ...   210  211  212  213  214\n0  197002090004         0      1      1      1 ...   0.0  0.0  0.0  0.0  0.0\n1  197002130002         0      1      1      1 ...   0.0  0.0  0.0  0.0  0.0\n2  197002210001         0      1      1      1 ...   0.0  0.0  0.0  0.0  0.0\n3  197003030003         0      1      1      1 ...   0.0  0.0  0.0  0.0  0.0\n4  197003200002         0      1      1      1 ...   0.0  0.0  0.0  0.0  0.0\n\n[5 rows x 642 columns]",
            "text/html": "<div>\n<style scoped>\n    .dataframe tbody tr th:only-of-type {\n        vertical-align: middle;\n    }\n\n    .dataframe tbody tr th {\n        vertical-align: top;\n    }\n\n    .dataframe thead th {\n        text-align: right;\n    }\n</style>\n<table border=\"1\" class=\"dataframe\">\n  <thead>\n    <tr style=\"text-align: right;\">\n      <th></th>\n      <th>eventid</th>\n      <th>extended</th>\n      <th>crit1</th>\n      <th>crit2</th>\n      <th>crit3</th>\n      <th>doubtterr</th>\n      <th>multiple</th>\n      <th>success</th>\n      <th>suicide</th>\n      <th>guncertain1</th>\n      <th>claimed</th>\n      <th>property</th>\n      <th>ishostkid</th>\n      <th>ransom</th>\n      <th>INT_LOG</th>\n      <th>INT_IDEO</th>\n      <th>count</th>\n      <th>iyear</th>\n      <th>imonth</th>\n      <th>iday</th>\n      <th>latitude</th>\n      <th>longitude</th>\n      <th>nperps</th>\n      <th>nkill</th>\n      <th>nkillus</th>\n      <th>gname</th>\n      <th>0</th>\n      <th>1</th>\n      <th>2</th>\n      <th>3</th>\n      <th>4</th>\n      <th>5</th>\n      <th>6</th>\n      <th>7</th>\n      <th>8</th>\n      <th>9</th>\n      <th>10</th>\n      <th>11</th>\n      <th>12</th>\n      <th>13</th>\n      <th>...</th>\n      <th>175</th>\n      <th>176</th>\n      <th>177</th>\n      <th>178</th>\n      <th>179</th>\n      <th>180</th>\n      <th>181</th>\n      <th>182</th>\n      <th>183</th>\n      <th>184</th>\n      <th>185</th>\n      <th>186</th>\n      <th>187</th>\n      <th>188</th>\n      <th>189</th>\n      <th>190</th>\n      <th>191</th>\n      <th>192</th>\n      <th>193</th>\n      <th>194</th>\n      <th>195</th>\n      <th>196</th>\n      <th>197</th>\n      <th>198</th>\n      <th>199</th>\n      <th>200</th>\n      <th>201</th>\n      <th>202</th>\n      <th>203</th>\n      <th>204</th>\n      <th>205</th>\n      <th>206</th>\n      <th>207</th>\n      <th>208</th>\n      <th>209</th>\n      <th>210</th>\n      <th>211</th>\n      <th>212</th>\n      <th>213</th>\n      <th>214</th>\n    </tr>\n  </thead>\n  <tbody>\n    <tr>\n      <th>0</th>\n      <td>197002090004</td>\n      <td>0</td>\n      <td>1</td>\n      <td>1</td>\n      <td>1</td>\n      <td>1</td>\n      <td>0</td>\n      <td>1</td>\n      <td>0</td>\n      <td>0</td>\n      <td>0</td>\n      <td>1</td>\n      <td>0</td>\n      <td>0</td>\n      <td>0</td>\n      <td>0</td>\n      <td>-0.703832</td>\n      <td>2.60223</td>\n      <td>-1.318925</td>\n      <td>-0.738999</td>\n      <td>0.888287</td>\n      <td>0.001817</td>\n      <td>-0.079758</td>\n      <td>-0.263274</td>\n      <td>-0.014519</td>\n      <td>3042</td>\n      <td>0.0</td>\n      <td>0.0</td>\n      <td>0.0</td>\n      <td>0.0</td>\n      <td>0.0</td>\n      <td>0.0</td>\n      <td>0.0</td>\n      <td>0.0</td>\n      <td>0.0</td>\n      <td>0.0</td>\n      <td>0.0</td>\n      <td>0.0</td>\n      <td>0.0</td>\n      <td>0.0</td>\n      <td>...</td>\n      <td>0.0</td>\n      <td>0.0</td>\n      <td>0.0</td>\n      <td>0.0</td>\n      <td>0.0</td>\n      <td>0.0</td>\n      <td>1.0</td>\n      <td>0.0</td>\n      <td>0.0</td>\n      <td>0.0</td>\n      <td>0.0</td>\n      <td>0.0</td>\n      <td>0.0</td>\n      <td>0.0</td>\n      <td>0.0</td>\n      <td>0.0</td>\n      <td>0.0</td>\n      <td>0.0</td>\n      <td>0.0</td>\n      <td>0.0</td>\n      <td>0.0</td>\n      <td>0.0</td>\n      <td>0.0</td>\n      <td>0.0</td>\n      <td>0.0</td>\n      <td>0.0</td>\n      <td>0.0</td>\n      <td>0.0</td>\n      <td>0.0</td>\n      <td>0.0</td>\n      <td>0.0</td>\n      <td>0.0</td>\n      <td>0.0</td>\n      <td>0.0</td>\n      <td>0.0</td>\n      <td>0.0</td>\n      <td>0.0</td>\n      <td>0.0</td>\n      <td>0.0</td>\n      <td>0.0</td>\n    </tr>\n    <tr>\n      <th>1</th>\n      <td>197002130002</td>\n      <td>0</td>\n      <td>1</td>\n      <td>1</td>\n      <td>1</td>\n      <td>0</td>\n      <td>0</td>\n      <td>1</td>\n      <td>0</td>\n      <td>0</td>\n      <td>0</td>\n      <td>1</td>\n      <td>0</td>\n      <td>0</td>\n      <td>0</td>\n      <td>1</td>\n      <td>-0.807589</td>\n      <td>2.60223</td>\n      <td>-1.318925</td>\n      <td>-0.284840</td>\n      <td>1.378266</td>\n      <td>0.002286</td>\n      <td>-0.079758</td>\n      <td>0.557366</td>\n      <td>-0.014519</td>\n      <td>2518</td>\n      <td>0.0</td>\n      <td>0.0</td>\n      <td>0.0</td>\n      <td>0.0</td>\n      <td>0.0</td>\n      <td>0.0</td>\n      <td>0.0</td>\n      <td>0.0</td>\n      <td>0.0</td>\n      <td>0.0</td>\n      <td>0.0</td>\n      <td>0.0</td>\n      <td>0.0</td>\n      <td>0.0</td>\n      <td>...</td>\n      <td>0.0</td>\n      <td>0.0</td>\n      <td>0.0</td>\n      <td>0.0</td>\n      <td>0.0</td>\n      <td>0.0</td>\n      <td>0.0</td>\n      <td>0.0</td>\n      <td>0.0</td>\n      <td>0.0</td>\n      <td>0.0</td>\n      <td>0.0</td>\n      <td>0.0</td>\n      <td>0.0</td>\n      <td>0.0</td>\n      <td>0.0</td>\n      <td>0.0</td>\n      <td>0.0</td>\n      <td>0.0</td>\n      <td>0.0</td>\n      <td>0.0</td>\n      <td>0.0</td>\n      <td>0.0</td>\n      <td>0.0</td>\n      <td>0.0</td>\n      <td>0.0</td>\n      <td>0.0</td>\n      <td>0.0</td>\n      <td>0.0</td>\n      <td>0.0</td>\n      <td>0.0</td>\n      <td>0.0</td>\n      <td>0.0</td>\n      <td>0.0</td>\n      <td>0.0</td>\n      <td>0.0</td>\n      <td>0.0</td>\n      <td>0.0</td>\n      <td>0.0</td>\n      <td>0.0</td>\n    </tr>\n    <tr>\n      <th>2</th>\n      <td>197002210001</td>\n      <td>0</td>\n      <td>1</td>\n      <td>1</td>\n      <td>1</td>\n      <td>0</td>\n      <td>0</td>\n      <td>1</td>\n      <td>0</td>\n      <td>0</td>\n      <td>0</td>\n      <td>1</td>\n      <td>0</td>\n      <td>0</td>\n      <td>1</td>\n      <td>1</td>\n      <td>-0.859467</td>\n      <td>2.60223</td>\n      <td>-1.318925</td>\n      <td>0.623477</td>\n      <td>1.485279</td>\n      <td>0.002272</td>\n      <td>0.032918</td>\n      <td>-0.263274</td>\n      <td>-0.014519</td>\n      <td>2519</td>\n      <td>0.0</td>\n      <td>0.0</td>\n      <td>0.0</td>\n      <td>0.0</td>\n      <td>0.0</td>\n      <td>0.0</td>\n      <td>0.0</td>\n      <td>0.0</td>\n      <td>0.0</td>\n      <td>0.0</td>\n      <td>0.0</td>\n      <td>0.0</td>\n      <td>0.0</td>\n      <td>0.0</td>\n      <td>...</td>\n      <td>0.0</td>\n      <td>0.0</td>\n      <td>0.0</td>\n      <td>0.0</td>\n      <td>0.0</td>\n      <td>0.0</td>\n      <td>0.0</td>\n      <td>0.0</td>\n      <td>0.0</td>\n      <td>0.0</td>\n      <td>0.0</td>\n      <td>0.0</td>\n      <td>0.0</td>\n      <td>0.0</td>\n      <td>0.0</td>\n      <td>0.0</td>\n      <td>0.0</td>\n      <td>0.0</td>\n      <td>0.0</td>\n      <td>0.0</td>\n      <td>0.0</td>\n      <td>0.0</td>\n      <td>0.0</td>\n      <td>0.0</td>\n      <td>0.0</td>\n      <td>0.0</td>\n      <td>0.0</td>\n      <td>0.0</td>\n      <td>0.0</td>\n      <td>0.0</td>\n      <td>0.0</td>\n      <td>0.0</td>\n      <td>0.0</td>\n      <td>0.0</td>\n      <td>0.0</td>\n      <td>0.0</td>\n      <td>0.0</td>\n      <td>0.0</td>\n      <td>0.0</td>\n      <td>0.0</td>\n    </tr>\n    <tr>\n      <th>3</th>\n      <td>197003030003</td>\n      <td>0</td>\n      <td>1</td>\n      <td>1</td>\n      <td>1</td>\n      <td>0</td>\n      <td>0</td>\n      <td>1</td>\n      <td>0</td>\n      <td>0</td>\n      <td>0</td>\n      <td>1</td>\n      <td>0</td>\n      <td>0</td>\n      <td>0</td>\n      <td>0</td>\n      <td>-0.755710</td>\n      <td>2.60223</td>\n      <td>-1.023737</td>\n      <td>-1.420237</td>\n      <td>1.349695</td>\n      <td>0.001630</td>\n      <td>0.032918</td>\n      <td>-0.263274</td>\n      <td>-0.014519</td>\n      <td>3049</td>\n      <td>0.0</td>\n      <td>0.0</td>\n      <td>0.0</td>\n      <td>0.0</td>\n      <td>0.0</td>\n      <td>0.0</td>\n      <td>0.0</td>\n      <td>0.0</td>\n      <td>0.0</td>\n      <td>0.0</td>\n      <td>0.0</td>\n      <td>0.0</td>\n      <td>0.0</td>\n      <td>0.0</td>\n      <td>...</td>\n      <td>0.0</td>\n      <td>0.0</td>\n      <td>0.0</td>\n      <td>0.0</td>\n      <td>0.0</td>\n      <td>0.0</td>\n      <td>1.0</td>\n      <td>0.0</td>\n      <td>0.0</td>\n      <td>0.0</td>\n      <td>0.0</td>\n      <td>0.0</td>\n      <td>0.0</td>\n      <td>0.0</td>\n      <td>0.0</td>\n      <td>0.0</td>\n      <td>0.0</td>\n      <td>0.0</td>\n      <td>0.0</td>\n      <td>0.0</td>\n      <td>0.0</td>\n      <td>0.0</td>\n      <td>0.0</td>\n      <td>0.0</td>\n      <td>0.0</td>\n      <td>0.0</td>\n      <td>0.0</td>\n      <td>0.0</td>\n      <td>0.0</td>\n      <td>0.0</td>\n      <td>0.0</td>\n      <td>0.0</td>\n      <td>0.0</td>\n      <td>0.0</td>\n      <td>0.0</td>\n      <td>0.0</td>\n      <td>0.0</td>\n      <td>0.0</td>\n      <td>0.0</td>\n      <td>0.0</td>\n    </tr>\n    <tr>\n      <th>4</th>\n      <td>197003200002</td>\n      <td>0</td>\n      <td>1</td>\n      <td>1</td>\n      <td>1</td>\n      <td>1</td>\n      <td>0</td>\n      <td>1</td>\n      <td>0</td>\n      <td>0</td>\n      <td>0</td>\n      <td>0</td>\n      <td>0</td>\n      <td>0</td>\n      <td>0</td>\n      <td>0</td>\n      <td>-0.807589</td>\n      <td>2.60223</td>\n      <td>-1.023737</td>\n      <td>0.509938</td>\n      <td>1.064209</td>\n      <td>0.001823</td>\n      <td>-0.079758</td>\n      <td>-0.146039</td>\n      <td>0.999173</td>\n      <td>3459</td>\n      <td>0.0</td>\n      <td>0.0</td>\n      <td>0.0</td>\n      <td>0.0</td>\n      <td>0.0</td>\n      <td>0.0</td>\n      <td>0.0</td>\n      <td>0.0</td>\n      <td>0.0</td>\n      <td>0.0</td>\n      <td>0.0</td>\n      <td>0.0</td>\n      <td>0.0</td>\n      <td>0.0</td>\n      <td>...</td>\n      <td>0.0</td>\n      <td>0.0</td>\n      <td>0.0</td>\n      <td>0.0</td>\n      <td>0.0</td>\n      <td>0.0</td>\n      <td>1.0</td>\n      <td>0.0</td>\n      <td>0.0</td>\n      <td>0.0</td>\n      <td>0.0</td>\n      <td>0.0</td>\n      <td>0.0</td>\n      <td>0.0</td>\n      <td>0.0</td>\n      <td>0.0</td>\n      <td>0.0</td>\n      <td>0.0</td>\n      <td>0.0</td>\n      <td>0.0</td>\n      <td>0.0</td>\n      <td>0.0</td>\n      <td>0.0</td>\n      <td>0.0</td>\n      <td>0.0</td>\n      <td>0.0</td>\n      <td>0.0</td>\n      <td>0.0</td>\n      <td>0.0</td>\n      <td>0.0</td>\n      <td>0.0</td>\n      <td>0.0</td>\n      <td>0.0</td>\n      <td>0.0</td>\n      <td>0.0</td>\n      <td>0.0</td>\n      <td>0.0</td>\n      <td>0.0</td>\n      <td>0.0</td>\n      <td>0.0</td>\n    </tr>\n  </tbody>\n</table>\n</div>"
          },
          "metadata": {}
        }
      ]
    },
    {
      "metadata": {
        "trusted": true,
        "_uuid": "58ec82ca35c8e3d43cb6fe1e8d6e386094cdecfa"
      },
      "cell_type": "code",
      "source": "# Test set split\ntest = train[train.gname == -999]\n\n# Training set split\ntrain = train[train.gname!= -999]",
      "execution_count": 25,
      "outputs": []
    },
    {
      "metadata": {
        "trusted": true,
        "_uuid": "346a3792f4e5d1190717dd771c23732559f07095"
      },
      "cell_type": "code",
      "source": "test.shape",
      "execution_count": 26,
      "outputs": [
        {
          "output_type": "execute_result",
          "execution_count": 26,
          "data": {
            "text/plain": "(82782, 642)"
          },
          "metadata": {}
        }
      ]
    },
    {
      "metadata": {
        "trusted": true,
        "_uuid": "a5df288278ed25a96d28162b4ea94c3332e95101"
      },
      "cell_type": "code",
      "source": "# Limiting the data so as to keep the compute time low\n# Kaggle kernel has a limit of 6 hrs.\ntrain = train.iloc[:50000,:]",
      "execution_count": 27,
      "outputs": []
    },
    {
      "metadata": {
        "trusted": true,
        "_uuid": "a14de17c0e17b2997c499570ab8836eb332d0151"
      },
      "cell_type": "code",
      "source": "# To check if any null values have crept in\ntrain.isnull().sum().sum()",
      "execution_count": 28,
      "outputs": [
        {
          "output_type": "execute_result",
          "execution_count": 28,
          "data": {
            "text/plain": "0"
          },
          "metadata": {}
        }
      ]
    },
    {
      "metadata": {
        "trusted": true,
        "_uuid": "f12d34bda047b341126a0db33ceccf1c9a02b707"
      },
      "cell_type": "code",
      "source": "# Dropping the event ID\ntrain.drop(['eventid'],axis='columns',inplace=True)\n\n# Creating the split for validation\ntrainData, validData = train_test_split(train,test_size=0.3)\n\ntrain_X, train_y, nas = proc_df(trainData, 'gname', do_scale=False)\nvalid_X, valid_y, nas = proc_df(validData, 'gname', do_scale=False)",
      "execution_count": 29,
      "outputs": []
    },
    {
      "metadata": {
        "trusted": true,
        "_uuid": "9270b5ad2dab174ea7e986c04abb2f3df4138ae2"
      },
      "cell_type": "code",
      "source": "train_X.shape,train_y.shape,valid_X.shape,valid_y.shape",
      "execution_count": 30,
      "outputs": [
        {
          "output_type": "execute_result",
          "execution_count": 30,
          "data": {
            "text/plain": "((35000, 640), (35000,), (15000, 640), (15000,))"
          },
          "metadata": {}
        }
      ]
    },
    {
      "metadata": {
        "_uuid": "837b14f5b1ea6527bbbc2102906f97cbe27c091d"
      },
      "cell_type": "markdown",
      "source": "# Training the model"
    },
    {
      "metadata": {
        "trusted": true,
        "_uuid": "67024bc344f7e296d3a5447914f7d38d9ebfb7bb"
      },
      "cell_type": "code",
      "source": "# The SVC model had the best overall accruaracy score among the models tested\n# Using the best results from GridSearch\nest = SVC(C=1, gamma=4, kernel='poly', degree=3, max_iter=10000, class_weight='balanced')",
      "execution_count": 31,
      "outputs": []
    },
    {
      "metadata": {
        "trusted": true,
        "_uuid": "fa48161787d756f7a70e7f930258fb4e4f3d2be1"
      },
      "cell_type": "code",
      "source": "# Fitting the training data\nest.fit(train_X,train_y)",
      "execution_count": null,
      "outputs": []
    },
    {
      "metadata": {
        "trusted": true,
        "_uuid": "fb27b9015a6047e581e08fd3e455644f606e63c0"
      },
      "cell_type": "code",
      "source": "# Making the prediction\ny_pred = est.predict(valid_X)",
      "execution_count": null,
      "outputs": []
    },
    {
      "metadata": {
        "trusted": true,
        "_uuid": "549f1b7b6adbb6ee6f02bbc5a25e293c2268d764"
      },
      "cell_type": "code",
      "source": "# Checking the accruracy and F1 score\naccuracy_score(valid_y,y_pred)",
      "execution_count": null,
      "outputs": []
    },
    {
      "metadata": {
        "trusted": true,
        "_uuid": "5653024ea5929ddaafd48787960ac056200b80a9"
      },
      "cell_type": "code",
      "source": "f1_score(valid_y,y_pred,average='macro')",
      "execution_count": null,
      "outputs": []
    },
    {
      "metadata": {
        "trusted": true,
        "_uuid": "a92f6b22615f8e7a2d932ae58691545b22be57dc"
      },
      "cell_type": "code",
      "source": "# The model was run 4 times to get the average accuracy and f1 score, this is done as the time complexity would be high for performing \n# K-fold cross validation\n# avg accuracy = 68 % which is the best for among the models tested like lightGBM and KNN",
      "execution_count": null,
      "outputs": []
    },
    {
      "metadata": {
        "_uuid": "01488bc6d5cf4f95bd37b1cc2cd6ef0a07f19f34"
      },
      "cell_type": "markdown",
      "source": "# Making the final prediction"
    },
    {
      "metadata": {
        "trusted": true,
        "_uuid": "77c2e3e062230257c9b2756b2996755f18f6bc76"
      },
      "cell_type": "code",
      "source": "test = test.reset_index(drop=True) # resetting the index of the df\ntest_X = test.drop(['eventid','gname'],axis='columns') # Dropping the event ID\ntest_pred = est.predict(test_X) # making the prediction\ntest_pred = le.inverse_transform(test_pred) # inverse transform\npred = pd.DataFrame(test_pred) # converting the array into a df",
      "execution_count": null,
      "outputs": []
    },
    {
      "metadata": {
        "trusted": true,
        "_uuid": "d3694a1951e3109e186ce22e1b9a5e0daaef6329"
      },
      "cell_type": "code",
      "source": "# The indexes are same so they can be combined.\ntest.index,pred.index",
      "execution_count": null,
      "outputs": []
    },
    {
      "metadata": {
        "trusted": true,
        "_uuid": "90d846dcae0f1afd961c5a90fbbc1a23b6abcffa"
      },
      "cell_type": "code",
      "source": "final = pd.concat([test.eventid,pred],axis=1,join_axes=[test.index]) # combining the final data\n\nfinal.to_csv('Final_pred.csv') # Exporting it to csv file ",
      "execution_count": null,
      "outputs": []
    }
  ],
  "metadata": {
    "kernelspec": {
      "display_name": "Python 3",
      "language": "python",
      "name": "python3"
    },
    "language_info": {
      "name": "python",
      "version": "3.6.6",
      "mimetype": "text/x-python",
      "codemirror_mode": {
        "name": "ipython",
        "version": 3
      },
      "pygments_lexer": "ipython3",
      "nbconvert_exporter": "python",
      "file_extension": ".py"
    }
  },
  "nbformat": 4,
  "nbformat_minor": 1
}