{
  "cells": [
    {
      "metadata": {
        "_uuid": "8f2839f25d086af736a60e9eeb907d3b93b6e0e5",
        "_cell_guid": "b1076dfc-b9ad-4769-8c92-a6c4dae69d19",
        "trusted": true
      },
      "cell_type": "code",
      "source": "%matplotlib inline\n%reload_ext autoreload\n%autoreload 2\nimport numpy as np\nimport pandas as pd\nimport matplotlib.pyplot as plt\nimport lightgbm as lbg\nfrom fastai.structured import *\nfrom fastai.column_data import *\nfrom sklearn.model_selection import train_test_split\nfrom sklearn.preprocessing import LabelEncoder\nle = LabelEncoder()\nfrom sklearn.model_selection import StratifiedKFold\nfk = StratifiedKFold(n_splits=10)\nfrom sklearn.metrics import accuracy_score, f1_score, make_scorer\nfrom sklearn.model_selection import GridSearchCV\nfrom sklearn.ensemble import IsolationForest\nimport os\nprint(os.listdir(\"../input\"))\nimport warnings\nwarnings.filterwarnings('ignore')",
      "execution_count": null,
      "outputs": []
    },
    {
      "metadata": {
        "_cell_guid": "79c7e3d0-c299-4dcb-8224-4455121ee9b0",
        "_uuid": "d629ff2d2480ee46fbb7e2d37f6b5fab8052498a",
        "trusted": true
      },
      "cell_type": "code",
      "source": "train = pd.read_csv('../input/train_LZdllcl.csv')\ntest = pd.read_csv('../input/test_2umaH9m.csv')",
      "execution_count": null,
      "outputs": []
    },
    {
      "metadata": {
        "trusted": true,
        "_uuid": "18c6ee6757e960b7c30783ddcb2238fa1a921c85"
      },
      "cell_type": "code",
      "source": "train.shape,test.shape",
      "execution_count": null,
      "outputs": []
    },
    {
      "metadata": {
        "trusted": true,
        "_uuid": "af2b2d2515ba7d2ce944d2e6ca8a3bc1c4d37a85"
      },
      "cell_type": "code",
      "source": "train.head(1)",
      "execution_count": null,
      "outputs": []
    },
    {
      "metadata": {
        "trusted": true,
        "_uuid": "9fc947a4547cb19cca57ec94de99d0c3abe89034"
      },
      "cell_type": "code",
      "source": "print(train.isnull().sum())",
      "execution_count": null,
      "outputs": []
    },
    {
      "metadata": {
        "trusted": true,
        "_uuid": "91270ba277afcccd9fca763826d4ae386ed0952a"
      },
      "cell_type": "code",
      "source": "#train = train[(train.no_of_trainings)<4]",
      "execution_count": null,
      "outputs": []
    },
    {
      "metadata": {
        "trusted": true,
        "_uuid": "4db91868a57da1f4a927bd53f85bbb0af1a16a94"
      },
      "cell_type": "code",
      "source": "train.describe()",
      "execution_count": null,
      "outputs": []
    },
    {
      "metadata": {
        "trusted": true,
        "_uuid": "24d73517871a93dff667b481474bf76be06324f6"
      },
      "cell_type": "code",
      "source": "train['education'].fillna('none',inplace=True)\n#train['previous_year_rating'].fillna(train['previous_year_rating'].mean(),inplace=True)\ntrain['previous_year_rating'].fillna(0,inplace=True)\ntest['education'].fillna('none',inplace=True)\n#test['previous_year_rating'].fillna(train['previous_year_rating'].mean(),inplace=True)\ntest['previous_year_rating'].fillna(0,inplace=True)\ntrain['score'] = train['avg_training_score']/train['no_of_trainings']\ntest['score'] = test['avg_training_score']/test['no_of_trainings']",
      "execution_count": null,
      "outputs": []
    },
    {
      "metadata": {
        "trusted": true,
        "_uuid": "2ece4e3b87c0efd28a28f3fd09b3c6732b9af0b4"
      },
      "cell_type": "code",
      "source": "col = ['department','region','education','gender','recruitment_channel',]\ncomb = train.append(test,sort = False)\nfor i in col:\n    comb[i] = le.fit_transform(comb[i].astype('str'))\n    comb[i] = comb[i].astype('int')\ntrain = comb[:train.shape[0]]\ntest = comb[train.shape[0]:]",
      "execution_count": null,
      "outputs": []
    },
    {
      "metadata": {
        "trusted": true,
        "_uuid": "58cab12fe2ba5fe176befce723b9d169cf937c9a"
      },
      "cell_type": "code",
      "source": "cat_vars = [\n            'department',\n            'region',\n            'education',\n            'gender',\n            'recruitment_channel',\n            'KPIs_met >80%',\n            'awards_won?',]\ncontin_vars = [\n                'no_of_trainings',\n                'age',\n                'previous_year_rating',\n                'length_of_service',\n                'avg_training_score',\n                'score']\nobjective = ['is_promoted']\nids = ['employee_id']",
      "execution_count": null,
      "outputs": []
    },
    {
      "metadata": {
        "trusted": true,
        "_uuid": "1ed6f65d1fa46512759059d086a02492d67cc54c"
      },
      "cell_type": "code",
      "source": "for v in cat_vars:\n    if v not in ['KPIs_met>80%','awards_won?']:\n        train[v] = train[v].astype('category')\n    else:\n        train[v] = train[v].astype('category').cat.as_ordered()",
      "execution_count": null,
      "outputs": []
    },
    {
      "metadata": {
        "trusted": true,
        "_uuid": "e9d751ae1cd393f0ea5eaa7e8b01b83d982c46c3"
      },
      "cell_type": "code",
      "source": "apply_cats(test,train)",
      "execution_count": null,
      "outputs": []
    },
    {
      "metadata": {
        "trusted": true,
        "_uuid": "b08d06e03ba40c2869e7d7c5cc1831c42bfd4395"
      },
      "cell_type": "code",
      "source": "for v in contin_vars:\n    train[v] = train[v].astype('float32')\n    test[v] = test[v].astype('float32')",
      "execution_count": null,
      "outputs": []
    },
    {
      "metadata": {
        "trusted": true,
        "_uuid": "f0289ee125afb05611e155f45d5cbf2f5548721a"
      },
      "cell_type": "code",
      "source": "#train = train.set_index('employee_id')\ntrain = train[ids+cat_vars+contin_vars+objective]",
      "execution_count": null,
      "outputs": []
    },
    {
      "metadata": {
        "trusted": true,
        "_uuid": "a3e3e960b1183ad32b3f4c46cf5214d85342e694"
      },
      "cell_type": "code",
      "source": "train.head(2)",
      "execution_count": null,
      "outputs": []
    },
    {
      "metadata": {
        "trusted": true,
        "_uuid": "53e16c8b1977c918a56ef59867c40fff7eb4dad5"
      },
      "cell_type": "code",
      "source": "test.head(2)",
      "execution_count": null,
      "outputs": []
    },
    {
      "metadata": {
        "trusted": true,
        "_uuid": "6649c4648e06f52874c4ae313ee0da20e358ef85"
      },
      "cell_type": "code",
      "source": "test = test.set_index('employee_id')\ntest['is_promoted'] = 0\ntest = test[cat_vars+contin_vars+['is_promoted']]\ntest_X = test.iloc[:,[0,1,2,3,4,5,6,7,8,9,10,11,12]]\ntest_y = test.iloc[:,[13]].values.astype('int32')",
      "execution_count": null,
      "outputs": []
    },
    {
      "metadata": {
        "trusted": true,
        "_uuid": "a7e7558b4bb69dea00cbc080fca3d77d78748d7c"
      },
      "cell_type": "code",
      "source": "test.head(2)",
      "execution_count": null,
      "outputs": []
    },
    {
      "metadata": {
        "trusted": true,
        "_uuid": "c0041414867bf1fd7332288fa95d5dbb98fbc483"
      },
      "cell_type": "code",
      "source": "train = train.set_index('employee_id')",
      "execution_count": null,
      "outputs": []
    },
    {
      "metadata": {
        "trusted": true,
        "_uuid": "5480b0476c72fbdf2d11a1ab62a01b5d88f71e90"
      },
      "cell_type": "code",
      "source": "trainData, validData = train_test_split(train,\n                                        test_size=0.3,\n                                        stratify=train.is_promoted)",
      "execution_count": null,
      "outputs": []
    },
    {
      "metadata": {
        "trusted": true,
        "_uuid": "e6b54e15fde4bbb398bea051a06c55b4f304ed12"
      },
      "cell_type": "code",
      "source": "trainData.head(1)",
      "execution_count": null,
      "outputs": []
    },
    {
      "metadata": {
        "trusted": true,
        "_uuid": "02574142fa8da35990794ad31cd93b44acae5281"
      },
      "cell_type": "code",
      "source": "train_X = trainData.iloc[:,[0,1,2,3,4,5,6,7,8,9,10,11,12]]\ntrain_y = trainData.iloc[:,[13]].values.astype('int32')\n#train_X, train_y, nas, mapper = proc_df(trainData, 'is_promoted')\n#valid_X, valid_y, nas, mapper = proc_df(validData, 'is_promoted')\nvalid_X = validData.iloc[:,[0,1,2,3,4,5,6,7,8,9,10,11,12]]\nvalid_y = validData.iloc[:,[13]].values.astype('int32')",
      "execution_count": null,
      "outputs": []
    },
    {
      "metadata": {
        "trusted": true,
        "_uuid": "9eb6d5e1e7c6fd055ac7eb8e4bdc577f64c95d1c"
      },
      "cell_type": "code",
      "source": "GV = False\nif GV:\n    params = {'boosting_type': 'gbdt',\n              'max_depth' : -1,\n              'objective': 'binary',\n              'nthread': 3,\n              'num_leaves': 64,\n              'learning_rate': 0.05,\n              'max_bin': 512,\n              'subsample_for_bin': 200,\n              'subsample': 1,\n              'subsample_freq': 1,\n              'colsample_bytree': 0.8,\n              'reg_alpha': 5,\n              'reg_lambda': 10,\n              'min_split_gain': 0.5,\n              'min_child_weight': 1,\n              'min_child_samples': 5,\n              'scale_pos_weight': 1,\n              'num_class' : 1,\n              'metric' : 'auc'}\n    gridParams = {\n        'max_depth' : [15],\n        'learning_rate': [0.005],\n        'n_estimators': [2000],\n        'num_leaves': [6,8,12,16,123],\n        'boosting_type' : ['gbdt'],\n        'objective' : ['binary'],\n        'colsample_bytree' : [0.65],\n        'subsample' : [0.7],\n        'reg_alpha' : [1],\n        'reg_lambda' : [1],\n        }\n    mdl = lbg.LGBMClassifier(boosting_type= 'gbdt',\n              objective = 'binary',\n              n_jobs = 3, # Updated from 'nthread'\n              silent = True,\n              max_depth = params['max_depth'],\n              max_bin = params['max_bin'],\n              subsample_for_bin = params['subsample_for_bin'],\n              subsample = params['subsample'],\n              subsample_freq = params['subsample_freq'],\n              min_split_gain = params['min_split_gain'],\n              min_child_weight = params['min_child_weight'],\n              min_child_samples = params['min_child_samples'],\n              scale_pos_weight = params['scale_pos_weight'])\n\n    grid = GridSearchCV(mdl, gridParams,\n                        verbose=0,\n                        cv=2,\n                        n_jobs=2)\n\n    grid.fit(train_X,train_y)\n\n    print(grid.best_params_)\n    print(grid.best_score_)\n\n    # Using parameters already set above, replace in the best from the grid search\n    params['colsample_bytree'] = grid.best_params_['colsample_bytree']\n    params['learning_rate'] = grid.best_params_['learning_rate']\n    params['num_leaves'] = grid.best_params_['num_leaves']\n    params['reg_alpha'] = grid.best_params_['reg_alpha']\n    params['reg_lambda'] = grid.best_params_['reg_lambda']\n    params['subsample'] = grid.best_params_['subsample']\n\n    print(params)",
      "execution_count": null,
      "outputs": []
    },
    {
      "metadata": {
        "trusted": true,
        "_uuid": "e0169baf7b518105cdf119304f8f364f824a05f3"
      },
      "cell_type": "code",
      "source": "train_y = train_y.astype(np.int8)\ntrain_y[train_y==1] = -1\ntrain_y[train_y==0] = 1\n\nvalid_y = valid_y.astype(np.int8)\nvalid_y[valid_y==1] = -1\nvalid_y[valid_y==0] = 1",
      "execution_count": null,
      "outputs": []
    },
    {
      "metadata": {
        "trusted": true,
        "_uuid": "21adee902f31fa2222039d42d66cdf312e1c475f"
      },
      "cell_type": "code",
      "source": "skf = StratifiedKFold(n_splits=3) \nfolds = list(skf.split(train_X, train_y))\nforest = IsolationForest()\nforest.contamination = sum(train_y==-1)/len(train_y)",
      "execution_count": null,
      "outputs": []
    },
    {
      "metadata": {
        "trusted": true,
        "_uuid": "ac58e32db5d1fa73fe2e831e21c2059942d291cd"
      },
      "cell_type": "code",
      "source": "ps = {\"n_estimators\": (55, 75, 95, 115)}\nf1sc = make_scorer(f1_score)\nsearch = GridSearchCV(estimator=forest, param_grid=ps, scoring=f1sc, cv=folds,)\nsearch.fit(train_X, train_y)",
      "execution_count": null,
      "outputs": []
    },
    {
      "metadata": {
        "trusted": true,
        "_uuid": "988532b8d2cb2be9f520333930396d7a2596c94b"
      },
      "cell_type": "code",
      "source": "\"\"\"lgbm_model = lbg.LGBMClassifier(boosting_type = 'gbdt',\n                                n_estimators=2000,\n                                max_depth = 15,\n                                objective = 'binary',\n                                num_leaves = 64,\n                                learning_rate = 0.005,\n                                max_bin = 512,\n                                subsample_for_bin = 200,\n                                subsample = 0.7,\n                                subsample_freq = 1,\n                                colsample_bytree = 0.65,\n                                reg_alpha = 1,\n                                reg_lambda = 1,\n                                min_split_gain = 0.01,\n                                min_child_weight = 1,\n                                min_child_samples = 5,\n                                scale_pos_weight = 1,\n                                metric = 'binary_logloss')\nlgbm_model.fit(train_X,train_y)\npred = lgbm_model.predict(valid_X)\"\"\"",
      "execution_count": null,
      "outputs": []
    },
    {
      "metadata": {
        "trusted": true,
        "_uuid": "d9300811c652c9086d9ee793ff49eb8a89f1a22f"
      },
      "cell_type": "code",
      "source": "df = pd.DataFrame(search.cv_results_)\ndf[[\"mean_test_score\", \"std_test_score\", \"params\"]].sort_values(by=[\"mean_test_score\"], ascending=False).head()",
      "execution_count": null,
      "outputs": []
    },
    {
      "metadata": {
        "trusted": true,
        "_uuid": "7678626fd5034b7f835cbee8e3771f8467e29068"
      },
      "cell_type": "code",
      "source": "test_X.head(2)",
      "execution_count": null,
      "outputs": []
    },
    {
      "metadata": {
        "trusted": true,
        "_uuid": "f4b6626ef01ac340a0d06ac8dde42f7b5ac4ac9d"
      },
      "cell_type": "code",
      "source": "optimal_forest = search.best_estimator_\npred = optimal_forest.predict(valid_X)",
      "execution_count": null,
      "outputs": []
    },
    {
      "metadata": {
        "trusted": true,
        "_uuid": "f88331877f454549206feef9a6e56900adba1b47"
      },
      "cell_type": "code",
      "source": "f1_score(valid_y,pred)",
      "execution_count": null,
      "outputs": []
    },
    {
      "metadata": {
        "trusted": true,
        "_uuid": "93d1d91df36ff0ad98a776f67ba77b0bfdce981e"
      },
      "cell_type": "code",
      "source": "\"\"\"\nlgbm_model = lbg.LGBMClassifier(\n            n_estimators=2000,\n            objective = 'binary',\n            boosting_type = 'gbdt',\n            learning_rate = 0.1,\n            min_split_gain =  0.01,\n            num_leaves = 123,\n            metric = 'binary_logloss')\nlgbm_model.fit(train_X,train_y)\npred = lgbm_model.predict(test_X)\n\"\"\"",
      "execution_count": null,
      "outputs": []
    },
    {
      "metadata": {
        "trusted": true,
        "_uuid": "bb334a7f29e0b43b3c004a5ed5044fbcf2a33f64"
      },
      "cell_type": "code",
      "source": "sub_ = True\nif sub_:\n    pred = optimal_forest.predict(test_X)\n    sub = pd.read_csv('../input/sample_submission_M0L0uXE.csv')\n    sub['is_promoted'] = pred\n    sub[sub==1] = 0\n    sub[sub==-1] = 1\n    sub.head()\n\n    sub.hist('is_promoted')\n    sub.to_csv(\"submission_fn_1.csv\",index=False)",
      "execution_count": null,
      "outputs": []
    },
    {
      "metadata": {
        "trusted": true,
        "_uuid": "8bef420c3d8d26c47e47a05d0e50f7fb0923def4"
      },
      "cell_type": "code",
      "source": "",
      "execution_count": null,
      "outputs": []
    }
  ],
  "metadata": {
    "kernelspec": {
      "display_name": "Python 3",
      "language": "python",
      "name": "python3"
    },
    "language_info": {
      "name": "python",
      "version": "3.6.6",
      "mimetype": "text/x-python",
      "codemirror_mode": {
        "name": "ipython",
        "version": 3
      },
      "pygments_lexer": "ipython3",
      "nbconvert_exporter": "python",
      "file_extension": ".py"
    }
  },
  "nbformat": 4,
  "nbformat_minor": 1
}