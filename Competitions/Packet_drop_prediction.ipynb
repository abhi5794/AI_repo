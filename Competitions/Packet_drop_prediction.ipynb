{
  "cells": [
    {
      "metadata": {
        "_uuid": "8f2839f25d086af736a60e9eeb907d3b93b6e0e5",
        "_cell_guid": "b1076dfc-b9ad-4769-8c92-a6c4dae69d19",
        "trusted": true
      },
      "cell_type": "code",
      "source": "import os\nprint(os.listdir(\"../input\"))\n%env JOBLIB_TEMP_FOLDER=/tmp # prevent memory issues\n%matplotlib inline\n%reload_ext autoreload\n%autoreload 2\nimport numpy as np\nimport pandas as pd\nimport matplotlib.pyplot as plt\nimport seaborn as sns\nimport lightgbm as lgb\nfrom fastai.structured import *\nfrom fastai.column_data import *\nimport warnings\nwarnings.filterwarnings('ignore')\nfrom sklearn.model_selection import train_test_split \nfrom sklearn.preprocessing import LabelEncoder\nfrom sklearn.preprocessing import OneHotEncoder\nle = LabelEncoder()\nfrom sklearn.model_selection import StratifiedKFold,GridSearchCV\nfk = StratifiedKFold(n_splits=10)\nfrom sklearn.metrics import accuracy_score, f1_score",
      "execution_count": 307,
      "outputs": [
        {
          "output_type": "stream",
          "text": "['23OCT_23NOV_10.193.123.18_final.csv.xlsx', '27_Sep_23_Oct_10.193.123.18_final.csv.xlsx', '6th_Sep _27_Sep_10.193.123.18_final.csv.xlsx']\nenv: JOBLIB_TEMP_FOLDER=/tmp # prevent memory issues\n",
          "name": "stdout"
        }
      ]
    },
    {
      "metadata": {
        "_cell_guid": "79c7e3d0-c299-4dcb-8224-4455121ee9b0",
        "_uuid": "d629ff2d2480ee46fbb7e2d37f6b5fab8052498a",
        "trusted": true
      },
      "cell_type": "code",
      "source": "df1 = pd.read_excel('../input/23OCT_23NOV_10.193.123.18_final.csv.xlsx')\ndf2 = pd.read_excel('../input/27_Sep_23_Oct_10.193.123.18_final.csv.xlsx')\ndf3 = pd.read_excel('../input/6th_Sep _27_Sep_10.193.123.18_final.csv.xlsx')",
      "execution_count": 308,
      "outputs": []
    },
    {
      "metadata": {
        "trusted": true,
        "_uuid": "ed87a135e3467466bb048fe06d1f2fc852f19b6a"
      },
      "cell_type": "code",
      "source": "df1.shape,df2.shape,df3.shape",
      "execution_count": 309,
      "outputs": [
        {
          "output_type": "execute_result",
          "execution_count": 309,
          "data": {
            "text/plain": "((6559, 71), (3664, 71), (4609, 71))"
          },
          "metadata": {}
        }
      ]
    },
    {
      "metadata": {
        "trusted": true,
        "_uuid": "f141ac09a12799ee7948cd94696965485fdf1117"
      },
      "cell_type": "code",
      "source": "df = pd.concat([df1,df2,df3],axis=0)\ndf.shape",
      "execution_count": 310,
      "outputs": [
        {
          "output_type": "execute_result",
          "execution_count": 310,
          "data": {
            "text/plain": "(14832, 71)"
          },
          "metadata": {}
        }
      ]
    },
    {
      "metadata": {
        "trusted": true,
        "_uuid": "b0e6bb67a8803154126ff76d3029121e9e3ba506"
      },
      "cell_type": "code",
      "source": "sns.distplot(df['PacketDrop_Current_Value'])",
      "execution_count": 311,
      "outputs": [
        {
          "output_type": "execute_result",
          "execution_count": 311,
          "data": {
            "text/plain": "<matplotlib.axes._subplots.AxesSubplot at 0x7f5fb5a14748>"
          },
          "metadata": {}
        },
        {
          "output_type": "display_data",
          "data": {
            "text/plain": "<Figure size 432x288 with 1 Axes>",
            "image/png": "[encoded data removed]"
          },
          "metadata": {}
        }
      ]
    },
    {
      "metadata": {
        "trusted": true,
        "_uuid": "2de132adb7de9990eb70da03e920bd466ff5935b"
      },
      "cell_type": "code",
      "source": "df.PacketDrop_Current_Value.describe()",
      "execution_count": 312,
      "outputs": [
        {
          "output_type": "execute_result",
          "execution_count": 312,
          "data": {
            "text/plain": "count    14832.000000\nmean         1.432039\nstd         11.493648\nmin          0.000000\n25%          0.000000\n50%          0.000000\n75%          0.000000\nmax        100.000000\nName: PacketDrop_Current_Value, dtype: float64"
          },
          "metadata": {}
        }
      ]
    },
    {
      "metadata": {
        "trusted": true,
        "_uuid": "ecd5e4b097a59fffb3d8641026f02261be0a1e71"
      },
      "cell_type": "code",
      "source": "sns.boxplot(df.PacketDrop_Current_Value)",
      "execution_count": 313,
      "outputs": [
        {
          "output_type": "execute_result",
          "execution_count": 313,
          "data": {
            "text/plain": "<matplotlib.axes._subplots.AxesSubplot at 0x7f5fb669c080>"
          },
          "metadata": {}
        },
        {
          "output_type": "display_data",
          "data": {
            "text/plain": "<Figure size 432x288 with 1 Axes>",
            "image/png": "[encoded data removed]"
          },
          "metadata": {}
        }
      ]
    },
    {
      "metadata": {
        "trusted": true,
        "_uuid": "275386b132ee4f5f86357af35cb41c798ef7508c"
      },
      "cell_type": "code",
      "source": "df.PacketDrop_Severity.value_counts()",
      "execution_count": 314,
      "outputs": [
        {
          "output_type": "execute_result",
          "execution_count": 314,
          "data": {
            "text/plain": "up          14603\ndown          191\ncritical       21\nwarning        17\nName: PacketDrop_Severity, dtype: int64"
          },
          "metadata": {}
        }
      ]
    },
    {
      "metadata": {
        "trusted": true,
        "_uuid": "6e6c144c5409f4a23b943ea0cb19552d90219e40"
      },
      "cell_type": "code",
      "source": "df.PacketDrop_Severity = df.PacketDrop_Severity.map({'warning':4,'critical':3,'down':2,'up':1})",
      "execution_count": 315,
      "outputs": []
    },
    {
      "metadata": {
        "trusted": true,
        "_uuid": "485e145082557a3e1a1e314959295fd7a70f1604"
      },
      "cell_type": "code",
      "source": "df.PacketDrop_Severity.value_counts()",
      "execution_count": 316,
      "outputs": [
        {
          "output_type": "execute_result",
          "execution_count": 316,
          "data": {
            "text/plain": "1    14603\n2      191\n3       21\n4       17\nName: PacketDrop_Severity, dtype: int64"
          },
          "metadata": {}
        }
      ]
    },
    {
      "metadata": {
        "trusted": true,
        "_uuid": "d4326263928b36fe9e040380e9bfb02870ff3ede"
      },
      "cell_type": "code",
      "source": "sns.boxplot(df.PacketDrop_Severity)",
      "execution_count": 317,
      "outputs": [
        {
          "output_type": "execute_result",
          "execution_count": 317,
          "data": {
            "text/plain": "<matplotlib.axes._subplots.AxesSubplot at 0x7f5fc02a96d8>"
          },
          "metadata": {}
        },
        {
          "output_type": "display_data",
          "data": {
            "text/plain": "<Figure size 432x288 with 1 Axes>",
            "image/png": "[encoded data removed]"
          },
          "metadata": {}
        }
      ]
    },
    {
      "metadata": {
        "trusted": true,
        "_uuid": "206af9d075ca4b71b08ceea9c7fcfebc075f17e0"
      },
      "cell_type": "code",
      "source": "sns.distplot(df.PacketDrop_Severity)",
      "execution_count": 318,
      "outputs": [
        {
          "output_type": "execute_result",
          "execution_count": 318,
          "data": {
            "text/plain": "<matplotlib.axes._subplots.AxesSubplot at 0x7f5fb59fda58>"
          },
          "metadata": {}
        },
        {
          "output_type": "display_data",
          "data": {
            "text/plain": "<Figure size 432x288 with 1 Axes>",
            "image/png": "[encoded data removed]"
          },
          "metadata": {}
        }
      ]
    },
    {
      "metadata": {
        "trusted": true,
        "_uuid": "70f10848567a0754c3b36f50a3ee2f4ab6d299dd"
      },
      "cell_type": "code",
      "source": "# Columns that have null value\nprint(df.columns[df.isnull().sum()>0])\ndf = df.dropna(0)",
      "execution_count": 319,
      "outputs": [
        {
          "output_type": "stream",
          "text": "Index(['UplinkJitter_Current_Value', 'UplinkJitter_Min_Current_Value',\n       'UplinkJitter_Max_Current_Value', 'UplinkRSSI_Current_Value',\n       'UplinkRSSI_Min_Current_Value', 'UplinkRSSI_Max_Current_Value',\n       'Uptime_Current_Value', 'Uptime_Min_Current_Value',\n       'Uptime_Max_Current_Value'],\n      dtype='object')\n",
          "name": "stdout"
        }
      ]
    },
    {
      "metadata": {
        "trusted": true,
        "_uuid": "b9a6f504e09502dac526299d429f196df6450f8e"
      },
      "cell_type": "code",
      "source": "df.Time = pd.to_datetime(df.Time)\n\ndf.Time = df.Time.dt.time",
      "execution_count": 320,
      "outputs": []
    },
    {
      "metadata": {
        "trusted": true,
        "_uuid": "8ac84f132c451db1fa8686a73e3e169e7f219f3f"
      },
      "cell_type": "code",
      "source": "cat_vars = ['CRCErrors_Severity','DownlinkJitter_Severity','DownlinkRSSI_Severity','DownlinkRSSICritical.Threshold','DownlinkUtilization_Severity','Frequency_Severity',\n            'Latency_Severity','SessionUptime_Severity','SSBeacon_Severity','SSProvisoningState_Current_Value','SSProvisoningState_Severity',\n            'SSProvisoningState_Min_Current_Value','SSProvisoningState_Max_Current_Value','UplinkJitter_Severity','UplinkRSSI_Severity',\n            'UplinkUtilization_Severity','Uptime_Severity']",
      "execution_count": 321,
      "outputs": []
    },
    {
      "metadata": {
        "trusted": true,
        "_uuid": "88d734d5561c1935b42935faa9eeec6df210abf4"
      },
      "cell_type": "code",
      "source": "#finding the class count of categorical variables\nres = pd.DataFrame()\nfor i in cat_vars:\n    res = pd.concat([res,pd.DataFrame(df[i].value_counts())],1)\n\nres",
      "execution_count": 322,
      "outputs": [
        {
          "output_type": "execute_result",
          "execution_count": 322,
          "data": {
            "text/plain": "                     CRCErrors_Severity       ...         Uptime_Severity\nCrititcal.Threshold                 NaN       ...                     NaN\ncritical                            NaN       ...                     NaN\njitter                              NaN       ...                     NaN\nnormal                              NaN       ...                     NaN\nok                              14782.0       ...                 14782.0\nup                                  NaN       ...                     NaN\nwarning                             NaN       ...                     NaN\n\n[7 rows x 17 columns]",
            "text/html": "<div>\n<style scoped>\n    .dataframe tbody tr th:only-of-type {\n        vertical-align: middle;\n    }\n\n    .dataframe tbody tr th {\n        vertical-align: top;\n    }\n\n    .dataframe thead th {\n        text-align: right;\n    }\n</style>\n<table border=\"1\" class=\"dataframe\">\n  <thead>\n    <tr style=\"text-align: right;\">\n      <th></th>\n      <th>CRCErrors_Severity</th>\n      <th>DownlinkJitter_Severity</th>\n      <th>DownlinkRSSI_Severity</th>\n      <th>DownlinkRSSICritical.Threshold</th>\n      <th>DownlinkUtilization_Severity</th>\n      <th>Frequency_Severity</th>\n      <th>Latency_Severity</th>\n      <th>SessionUptime_Severity</th>\n      <th>SSBeacon_Severity</th>\n      <th>SSProvisoningState_Current_Value</th>\n      <th>SSProvisoningState_Severity</th>\n      <th>SSProvisoningState_Min_Current_Value</th>\n      <th>SSProvisoningState_Max_Current_Value</th>\n      <th>UplinkJitter_Severity</th>\n      <th>UplinkRSSI_Severity</th>\n      <th>UplinkUtilization_Severity</th>\n      <th>Uptime_Severity</th>\n    </tr>\n  </thead>\n  <tbody>\n    <tr>\n      <th>Crititcal.Threshold</th>\n      <td>NaN</td>\n      <td>NaN</td>\n      <td>NaN</td>\n      <td>14782.0</td>\n      <td>NaN</td>\n      <td>NaN</td>\n      <td>NaN</td>\n      <td>NaN</td>\n      <td>NaN</td>\n      <td>NaN</td>\n      <td>NaN</td>\n      <td>NaN</td>\n      <td>NaN</td>\n      <td>NaN</td>\n      <td>NaN</td>\n      <td>NaN</td>\n      <td>NaN</td>\n    </tr>\n    <tr>\n      <th>critical</th>\n      <td>NaN</td>\n      <td>82.0</td>\n      <td>NaN</td>\n      <td>NaN</td>\n      <td>NaN</td>\n      <td>NaN</td>\n      <td>2534.0</td>\n      <td>NaN</td>\n      <td>176.0</td>\n      <td>NaN</td>\n      <td>NaN</td>\n      <td>NaN</td>\n      <td>NaN</td>\n      <td>12.0</td>\n      <td>NaN</td>\n      <td>NaN</td>\n      <td>NaN</td>\n    </tr>\n    <tr>\n      <th>jitter</th>\n      <td>NaN</td>\n      <td>NaN</td>\n      <td>NaN</td>\n      <td>NaN</td>\n      <td>NaN</td>\n      <td>NaN</td>\n      <td>NaN</td>\n      <td>NaN</td>\n      <td>NaN</td>\n      <td>1104.0</td>\n      <td>NaN</td>\n      <td>1104.0</td>\n      <td>1104.0</td>\n      <td>NaN</td>\n      <td>NaN</td>\n      <td>NaN</td>\n      <td>NaN</td>\n    </tr>\n    <tr>\n      <th>normal</th>\n      <td>NaN</td>\n      <td>NaN</td>\n      <td>NaN</td>\n      <td>NaN</td>\n      <td>NaN</td>\n      <td>NaN</td>\n      <td>NaN</td>\n      <td>NaN</td>\n      <td>NaN</td>\n      <td>13678.0</td>\n      <td>NaN</td>\n      <td>13678.0</td>\n      <td>13678.0</td>\n      <td>NaN</td>\n      <td>NaN</td>\n      <td>NaN</td>\n      <td>NaN</td>\n    </tr>\n    <tr>\n      <th>ok</th>\n      <td>14782.0</td>\n      <td>8056.0</td>\n      <td>14772.0</td>\n      <td>NaN</td>\n      <td>14782.0</td>\n      <td>14782.0</td>\n      <td>NaN</td>\n      <td>14782.0</td>\n      <td>14592.0</td>\n      <td>NaN</td>\n      <td>14782.0</td>\n      <td>NaN</td>\n      <td>NaN</td>\n      <td>14557.0</td>\n      <td>14641.0</td>\n      <td>14782.0</td>\n      <td>14782.0</td>\n    </tr>\n    <tr>\n      <th>up</th>\n      <td>NaN</td>\n      <td>NaN</td>\n      <td>NaN</td>\n      <td>NaN</td>\n      <td>NaN</td>\n      <td>NaN</td>\n      <td>190.0</td>\n      <td>NaN</td>\n      <td>NaN</td>\n      <td>NaN</td>\n      <td>NaN</td>\n      <td>NaN</td>\n      <td>NaN</td>\n      <td>NaN</td>\n      <td>NaN</td>\n      <td>NaN</td>\n      <td>NaN</td>\n    </tr>\n    <tr>\n      <th>warning</th>\n      <td>NaN</td>\n      <td>6644.0</td>\n      <td>10.0</td>\n      <td>NaN</td>\n      <td>NaN</td>\n      <td>NaN</td>\n      <td>12058.0</td>\n      <td>NaN</td>\n      <td>14.0</td>\n      <td>NaN</td>\n      <td>NaN</td>\n      <td>NaN</td>\n      <td>NaN</td>\n      <td>213.0</td>\n      <td>141.0</td>\n      <td>NaN</td>\n      <td>NaN</td>\n    </tr>\n  </tbody>\n</table>\n</div>"
          },
          "metadata": {}
        }
      ]
    },
    {
      "metadata": {
        "trusted": true,
        "_uuid": "2f49fc58e575931691fc39ea49a3ad47c83bccac"
      },
      "cell_type": "code",
      "source": "# dropping columns that have only single class\ndf = df.drop(['CRCErrors_Severity','DownlinkUtilization_Severity','Frequency_Severity','SessionUptime_Severity','SSProvisoningState_Severity',\n              'UplinkUtilization_Severity','Uptime_Severity'],1)",
      "execution_count": 323,
      "outputs": []
    },
    {
      "metadata": {
        "trusted": true,
        "_uuid": "541eacaf1710d3a0d23bfb1bde26eb5800b17af9"
      },
      "cell_type": "code",
      "source": "cat_vars = ['DownlinkJitter_Severity','DownlinkRSSI_Severity','DownlinkRSSICritical.Threshold','Latency_Severity','SSBeacon_Severity','SSProvisoningState_Current_Value',\n            'SSProvisoningState_Min_Current_Value','SSProvisoningState_Max_Current_Value','UplinkJitter_Severity','UplinkRSSI_Severity']",
      "execution_count": 324,
      "outputs": []
    },
    {
      "metadata": {
        "trusted": true,
        "_uuid": "9aa1a341da5eb338cad794182ac155314b0be537"
      },
      "cell_type": "code",
      "source": "def ohe(train,features):\n    \"\"\"\n    The functions takes the df1 with the list of arguments to be one hot encoded and returns a df1\n    train is the df1 and features is a list\n    \"\"\"\n    for v in features:\n        df1 = train[v].values\n        train = train.drop([v],axis=1)\n        oh = OneHotEncoder(sparse=False)\n        df1 = df1.reshape(len(df1),1)\n        df1 = oh.fit_transform(df1)\n        df1 = df1[:,1:]\n        train.reset_index(inplace=True, drop=True)\n        train = pd.concat([train,pd.DataFrame(df1).add_prefix(v)],axis=1,sort=False)\n    return train",
      "execution_count": 325,
      "outputs": []
    },
    {
      "metadata": {
        "trusted": true,
        "_uuid": "9ee7f1136dbe008375c2ac23c1fd8709d63dd925"
      },
      "cell_type": "code",
      "source": "# one hot encoding the data\ndf = ohe(df,cat_vars)",
      "execution_count": 326,
      "outputs": []
    },
    {
      "metadata": {
        "trusted": true,
        "_uuid": "19573120ed7667670943b61ee049f35f527f1111"
      },
      "cell_type": "code",
      "source": "dec = pd.DataFrame(df.describe())\ndec = pd.DataFrame(dec.iloc[2])\ndec.std = dec['std'].astype('float32')",
      "execution_count": 327,
      "outputs": []
    },
    {
      "metadata": {
        "trusted": true,
        "_uuid": "3b199ee1b8c96b46c94ec8b1ac4523d7d78bc238"
      },
      "cell_type": "code",
      "source": "# list of columns with std as 0\ndec[dec.std==0].index",
      "execution_count": 328,
      "outputs": [
        {
          "output_type": "execute_result",
          "execution_count": 328,
          "data": {
            "text/plain": "Index(['DownlinkJitter_Warning.Threshold', 'DownlinkJitter_Critical.Threshold',\n       'DownlinkRSSI_Warning.Threshold', 'Frequency_Current_Value',\n       'Frequency_Min_Current_Value', 'Frequency_Max_Current_Value',\n       'Latency_Warning.Threshold', 'Latency_Critical.Threshold',\n       'PacketDrop_Warning.Threshold', 'PacketDrop_Critical.Threshold',\n       'SSBeacon_Warning.Threshold', 'SSBeacon_Critical.Threshold',\n       'UplinkJitter_Warning.Threshold', 'UplinkJitter_Critical.Threshold',\n       'UplinkRSSI_Warning.Threshold', 'UplinkRSSI_Critical.Threshold'],\n      dtype='object')"
          },
          "metadata": {}
        }
      ]
    },
    {
      "metadata": {
        "trusted": true,
        "_uuid": "50eaa993f4b8b8ab60dd4bd447d2edb38ef37581"
      },
      "cell_type": "code",
      "source": "df = df.drop(['Time','DownlinkJitter_Warning.Threshold', 'DownlinkJitter_Critical.Threshold',\n       'DownlinkRSSI_Warning.Threshold', 'Frequency_Current_Value',\n       'Frequency_Min_Current_Value', 'Frequency_Max_Current_Value',\n       'Latency_Warning.Threshold', 'Latency_Critical.Threshold',\n       'PacketDrop_Warning.Threshold', 'PacketDrop_Critical.Threshold',\n       'SSBeacon_Warning.Threshold', 'SSBeacon_Critical.Threshold',\n       'UplinkJitter_Warning.Threshold', 'UplinkJitter_Critical.Threshold',\n       'UplinkRSSI_Warning.Threshold', 'UplinkRSSI_Critical.Threshold'],1)",
      "execution_count": 329,
      "outputs": []
    },
    {
      "metadata": {
        "trusted": true,
        "_uuid": "0205e31b28c0cd22f2dfa8a0c52f3d41b1687b99"
      },
      "cell_type": "code",
      "source": "df.head()",
      "execution_count": 330,
      "outputs": [
        {
          "output_type": "execute_result",
          "execution_count": 330,
          "data": {
            "text/plain": "   CRCErrors_Current_Value          ...           UplinkRSSI_Severity0\n0                        4          ...                            0.0\n1                        4          ...                            0.0\n2                        4          ...                            0.0\n3                        4          ...                            0.0\n4                        4          ...                            0.0\n\n[5 rows x 50 columns]",
            "text/html": "<div>\n<style scoped>\n    .dataframe tbody tr th:only-of-type {\n        vertical-align: middle;\n    }\n\n    .dataframe tbody tr th {\n        vertical-align: top;\n    }\n\n    .dataframe thead th {\n        text-align: right;\n    }\n</style>\n<table border=\"1\" class=\"dataframe\">\n  <thead>\n    <tr style=\"text-align: right;\">\n      <th></th>\n      <th>CRCErrors_Current_Value</th>\n      <th>CRCErrors_Min_Current_Value</th>\n      <th>CRCErrors_Max_Current_Value</th>\n      <th>DownlinkJitter_Current_Value</th>\n      <th>DownlinkJitter_Min_Current_Value</th>\n      <th>DownlinkJitter_Max_Current_Value</th>\n      <th>DownlinkRSSI_Current_Value</th>\n      <th>DownlinkRSSI_Min_Current_Value</th>\n      <th>DownlinkRSSI_Max_Current_Value</th>\n      <th>DownlinkUtilization_Current_Value</th>\n      <th>DownlinkUtilization_Min_Current_Value</th>\n      <th>DownlinkUtilization_Max_Current_Value</th>\n      <th>Latency_Current_Value</th>\n      <th>Latency_Min_Current_Value</th>\n      <th>Latency_Max_Current_Value</th>\n      <th>PacketDrop_Current_Value</th>\n      <th>PacketDrop_Severity</th>\n      <th>PacketDrop_Min_Current_Value</th>\n      <th>PacketDrop_Max_Current_Value</th>\n      <th>SessionUptime_Current_Value</th>\n      <th>SessionUptime_Min_Current_Value</th>\n      <th>SessionUptime_Max_Current_Value</th>\n      <th>SSBeacon_Current_Value</th>\n      <th>SSBeacon_Min_Current_Value</th>\n      <th>SSBeacon_Max_Current_Value</th>\n      <th>UplinkJitter_Current_Value</th>\n      <th>UplinkJitter_Min_Current_Value</th>\n      <th>UplinkJitter_Max_Current_Value</th>\n      <th>UplinkRSSI_Current_Value</th>\n      <th>UplinkRSSI_Min_Current_Value</th>\n      <th>UplinkRSSI_Max_Current_Value</th>\n      <th>UplinkUtilization_Current_Value</th>\n      <th>UplinkUtilization_Min_Current_Value</th>\n      <th>UplinkUtilization_Max_Current_Value</th>\n      <th>Uptime_Current_Value</th>\n      <th>Uptime_Min_Current_Value</th>\n      <th>Uptime_Max_Current_Value</th>\n      <th>DownlinkJitter_Severity0</th>\n      <th>DownlinkJitter_Severity1</th>\n      <th>DownlinkRSSI_Severity0</th>\n      <th>Latency_Severity0</th>\n      <th>Latency_Severity1</th>\n      <th>SSBeacon_Severity0</th>\n      <th>SSBeacon_Severity1</th>\n      <th>SSProvisoningState_Current_Value0</th>\n      <th>SSProvisoningState_Min_Current_Value0</th>\n      <th>SSProvisoningState_Max_Current_Value0</th>\n      <th>UplinkJitter_Severity0</th>\n      <th>UplinkJitter_Severity1</th>\n      <th>UplinkRSSI_Severity0</th>\n    </tr>\n  </thead>\n  <tbody>\n    <tr>\n      <th>0</th>\n      <td>4</td>\n      <td>4</td>\n      <td>4</td>\n      <td>5.0</td>\n      <td>5</td>\n      <td>5</td>\n      <td>-57.0</td>\n      <td>-57</td>\n      <td>-57</td>\n      <td>0.02</td>\n      <td>0.02</td>\n      <td>0.02</td>\n      <td>39.722</td>\n      <td>39.722</td>\n      <td>39.722</td>\n      <td>0</td>\n      <td>1</td>\n      <td>0</td>\n      <td>0</td>\n      <td>12047.0</td>\n      <td>12047</td>\n      <td>12047</td>\n      <td>99.0</td>\n      <td>99</td>\n      <td>99</td>\n      <td>2.0</td>\n      <td>2.0</td>\n      <td>2.0</td>\n      <td>-60.0</td>\n      <td>-60.0</td>\n      <td>-60.0</td>\n      <td>0.01</td>\n      <td>0.01</td>\n      <td>0.01</td>\n      <td>1329708.0</td>\n      <td>1329708.0</td>\n      <td>1329708.0</td>\n      <td>1.0</td>\n      <td>0.0</td>\n      <td>0.0</td>\n      <td>0.0</td>\n      <td>1.0</td>\n      <td>1.0</td>\n      <td>0.0</td>\n      <td>1.0</td>\n      <td>1.0</td>\n      <td>1.0</td>\n      <td>1.0</td>\n      <td>0.0</td>\n      <td>0.0</td>\n    </tr>\n    <tr>\n      <th>1</th>\n      <td>4</td>\n      <td>4</td>\n      <td>4</td>\n      <td>5.0</td>\n      <td>5</td>\n      <td>5</td>\n      <td>-56.0</td>\n      <td>-56</td>\n      <td>-56</td>\n      <td>0.00</td>\n      <td>0.00</td>\n      <td>0.00</td>\n      <td>39.155</td>\n      <td>39.155</td>\n      <td>39.155</td>\n      <td>0</td>\n      <td>1</td>\n      <td>0</td>\n      <td>0</td>\n      <td>12342.0</td>\n      <td>12342</td>\n      <td>12342</td>\n      <td>99.0</td>\n      <td>99</td>\n      <td>99</td>\n      <td>3.0</td>\n      <td>3.0</td>\n      <td>3.0</td>\n      <td>-59.0</td>\n      <td>-59.0</td>\n      <td>-59.0</td>\n      <td>0.00</td>\n      <td>0.00</td>\n      <td>0.00</td>\n      <td>1330003.0</td>\n      <td>1330003.0</td>\n      <td>1330003.0</td>\n      <td>1.0</td>\n      <td>0.0</td>\n      <td>0.0</td>\n      <td>0.0</td>\n      <td>1.0</td>\n      <td>1.0</td>\n      <td>0.0</td>\n      <td>1.0</td>\n      <td>1.0</td>\n      <td>1.0</td>\n      <td>1.0</td>\n      <td>0.0</td>\n      <td>0.0</td>\n    </tr>\n    <tr>\n      <th>2</th>\n      <td>4</td>\n      <td>4</td>\n      <td>4</td>\n      <td>4.0</td>\n      <td>4</td>\n      <td>4</td>\n      <td>-55.0</td>\n      <td>-55</td>\n      <td>-55</td>\n      <td>0.00</td>\n      <td>0.00</td>\n      <td>0.00</td>\n      <td>38.901</td>\n      <td>38.901</td>\n      <td>38.901</td>\n      <td>0</td>\n      <td>1</td>\n      <td>0</td>\n      <td>0</td>\n      <td>12932.0</td>\n      <td>12932</td>\n      <td>12932</td>\n      <td>99.0</td>\n      <td>99</td>\n      <td>99</td>\n      <td>2.0</td>\n      <td>2.0</td>\n      <td>2.0</td>\n      <td>-59.0</td>\n      <td>-59.0</td>\n      <td>-59.0</td>\n      <td>0.00</td>\n      <td>0.00</td>\n      <td>0.00</td>\n      <td>1330593.0</td>\n      <td>1330593.0</td>\n      <td>1330593.0</td>\n      <td>1.0</td>\n      <td>0.0</td>\n      <td>0.0</td>\n      <td>0.0</td>\n      <td>1.0</td>\n      <td>1.0</td>\n      <td>0.0</td>\n      <td>1.0</td>\n      <td>1.0</td>\n      <td>1.0</td>\n      <td>1.0</td>\n      <td>0.0</td>\n      <td>0.0</td>\n    </tr>\n    <tr>\n      <th>3</th>\n      <td>4</td>\n      <td>4</td>\n      <td>4</td>\n      <td>3.0</td>\n      <td>3</td>\n      <td>3</td>\n      <td>-55.0</td>\n      <td>-55</td>\n      <td>-55</td>\n      <td>0.00</td>\n      <td>0.00</td>\n      <td>0.00</td>\n      <td>40.305</td>\n      <td>40.305</td>\n      <td>40.305</td>\n      <td>0</td>\n      <td>1</td>\n      <td>0</td>\n      <td>0</td>\n      <td>13227.0</td>\n      <td>13227</td>\n      <td>13227</td>\n      <td>99.0</td>\n      <td>99</td>\n      <td>99</td>\n      <td>2.0</td>\n      <td>2.0</td>\n      <td>2.0</td>\n      <td>-59.0</td>\n      <td>-59.0</td>\n      <td>-59.0</td>\n      <td>0.00</td>\n      <td>0.00</td>\n      <td>0.00</td>\n      <td>1330888.0</td>\n      <td>1330888.0</td>\n      <td>1330888.0</td>\n      <td>1.0</td>\n      <td>0.0</td>\n      <td>0.0</td>\n      <td>0.0</td>\n      <td>1.0</td>\n      <td>1.0</td>\n      <td>0.0</td>\n      <td>1.0</td>\n      <td>1.0</td>\n      <td>1.0</td>\n      <td>1.0</td>\n      <td>0.0</td>\n      <td>0.0</td>\n    </tr>\n    <tr>\n      <th>4</th>\n      <td>4</td>\n      <td>4</td>\n      <td>4</td>\n      <td>5.0</td>\n      <td>5</td>\n      <td>5</td>\n      <td>-55.0</td>\n      <td>-55</td>\n      <td>-55</td>\n      <td>0.00</td>\n      <td>0.00</td>\n      <td>0.00</td>\n      <td>38.816</td>\n      <td>38.816</td>\n      <td>38.816</td>\n      <td>0</td>\n      <td>1</td>\n      <td>0</td>\n      <td>0</td>\n      <td>13522.0</td>\n      <td>13522</td>\n      <td>13522</td>\n      <td>99.0</td>\n      <td>99</td>\n      <td>99</td>\n      <td>4.0</td>\n      <td>4.0</td>\n      <td>4.0</td>\n      <td>-59.0</td>\n      <td>-59.0</td>\n      <td>-59.0</td>\n      <td>0.00</td>\n      <td>0.00</td>\n      <td>0.00</td>\n      <td>1331183.0</td>\n      <td>1331183.0</td>\n      <td>1331183.0</td>\n      <td>1.0</td>\n      <td>0.0</td>\n      <td>0.0</td>\n      <td>0.0</td>\n      <td>1.0</td>\n      <td>1.0</td>\n      <td>0.0</td>\n      <td>1.0</td>\n      <td>1.0</td>\n      <td>1.0</td>\n      <td>1.0</td>\n      <td>0.0</td>\n      <td>0.0</td>\n    </tr>\n  </tbody>\n</table>\n</div>"
          },
          "metadata": {}
        }
      ]
    },
    {
      "metadata": {
        "trusted": true,
        "_uuid": "7acc1e28144e962fb878d553f9b0efdc35c0926e"
      },
      "cell_type": "code",
      "source": "# feature importance \nfrom xgboost import XGBClassifier\nfrom xgboost import plot_importance\nfrom matplotlib import pyplot",
      "execution_count": 331,
      "outputs": []
    },
    {
      "metadata": {
        "trusted": true,
        "_uuid": "3da4ec4abd37bd39a30a0a5905d066ff208a576e"
      },
      "cell_type": "code",
      "source": "df = df.astype('float32')",
      "execution_count": 332,
      "outputs": []
    },
    {
      "metadata": {
        "trusted": true,
        "_uuid": "d10c59d1af6b53cdad66aa46918adec2b174f2e6"
      },
      "cell_type": "code",
      "source": "X, y, nas, mapper = proc_df(df, 'PacketDrop_Current_Value', do_scale=True)",
      "execution_count": 333,
      "outputs": []
    },
    {
      "metadata": {
        "trusted": true,
        "_uuid": "039a0b168e0285404a8567f1ec4b0d7efd84b3b2"
      },
      "cell_type": "code",
      "source": "#y = df['PacketDrop_Current_Value'].values\n#X = df.drop(['PacketDrop_Current_Value'],1)",
      "execution_count": 334,
      "outputs": []
    },
    {
      "metadata": {
        "trusted": true,
        "_uuid": "3aeba9adee7d45d953defb7bcdfc81b87d9749e0"
      },
      "cell_type": "code",
      "source": "xgbmdl = XGBClassifier()\nxgbmdl.fit(X,y)",
      "execution_count": 335,
      "outputs": [
        {
          "output_type": "execute_result",
          "execution_count": 335,
          "data": {
            "text/plain": "XGBClassifier(base_score=0.5, booster='gbtree', colsample_bylevel=1,\n       colsample_bytree=1, gamma=0, learning_rate=0.1, max_delta_step=0,\n       max_depth=3, min_child_weight=1, missing=None, n_estimators=100,\n       n_jobs=1, nthread=None, objective='multi:softprob', random_state=0,\n       reg_alpha=0, reg_lambda=1, scale_pos_weight=1, seed=None,\n       silent=True, subsample=1)"
          },
          "metadata": {}
        }
      ]
    },
    {
      "metadata": {
        "trusted": true,
        "_uuid": "f81847f85d1cf48521eb6cca8c3c0cfd2aa246cd"
      },
      "cell_type": "code",
      "source": "# Feature importance plot\nplot_importance(xgbmdl)\npyplot.show()",
      "execution_count": 336,
      "outputs": [
        {
          "output_type": "display_data",
          "data": {
            "text/plain": "<Figure size 432x288 with 1 Axes>",
            "image/png": "[encoded data removed]"
          },
          "metadata": {}
        }
      ]
    },
    {
      "metadata": {
        "trusted": true,
        "_uuid": "81b7d62c52945107a8ae8c5f42989a9ba7cc5019"
      },
      "cell_type": "code",
      "source": "X_train, X_test, y_train, y_test = train_test_split(X, y, test_size=0.3)\n\n#X_test, X_val, y_test, y_val = train_test_split(X_test, y_test, test_size=0.5, random_state=1)",
      "execution_count": 337,
      "outputs": []
    },
    {
      "metadata": {
        "trusted": true,
        "_uuid": "2943e94503ca9fde49776d32bd0d6b185d3fcaa7"
      },
      "cell_type": "code",
      "source": "X_train.shape, X_test.shape, y_train.shape, y_test.shape #,X_val.shape, y_val.shape",
      "execution_count": 338,
      "outputs": [
        {
          "output_type": "execute_result",
          "execution_count": 338,
          "data": {
            "text/plain": "((10347, 49), (4435, 49), (10347,), (4435,))"
          },
          "metadata": {}
        }
      ]
    },
    {
      "metadata": {
        "trusted": true,
        "_uuid": "5279f3ce47dfb8e35a91ef47d9374acaa91810e3"
      },
      "cell_type": "code",
      "source": "\"\"\"\n# creating the model\nxgbmdl_f = XGBClassifier()\n\nparam_grid = {'learning_rate':[0.01],\n              'max_depth':[1],\n              'gamma':[0.01],\n              'reg_lambda':[0.1],\n             'reg_alpha':[0.1]}\n\ngrid = GridSearchCV(xgbmdl_f ,param_grid , verbose=0, n_jobs=3)\n\"\"\"",
      "execution_count": 339,
      "outputs": [
        {
          "output_type": "execute_result",
          "execution_count": 339,
          "data": {
            "text/plain": "\"\\n# creating the model\\nxgbmdl_f = XGBClassifier()\\n\\nparam_grid = {'learning_rate':[0.01],\\n              'max_depth':[1],\\n              'gamma':[0.01],\\n              'reg_lambda':[0.1],\\n             'reg_alpha':[0.1]}\\n\\ngrid = GridSearchCV(xgbmdl_f ,param_grid , verbose=0, n_jobs=3)\\n\""
          },
          "metadata": {}
        }
      ]
    },
    {
      "metadata": {
        "trusted": true,
        "_uuid": "e556c1601facfe15ecbb6a6ab59bccf8e23de0b6"
      },
      "cell_type": "code",
      "source": "#grid.best_params_",
      "execution_count": 340,
      "outputs": []
    },
    {
      "metadata": {
        "trusted": true,
        "_uuid": "3d823f7e6d4e8fd5d1ce9259d55406893db6233b"
      },
      "cell_type": "code",
      "source": "xg = XGBClassifier(learning_rate=0.01,max_depth=1,gamma=0.01,reg_alpha=0.1,reg_lambda=0.1)\nxg.fit(X_train,y_train)\ny_pred = xg.predict(X_test)\n#xgbmdl_f.fit(X_train,y_train)",
      "execution_count": null,
      "outputs": []
    },
    {
      "metadata": {
        "trusted": true,
        "_uuid": "d7313f87424abadab97fdc9da6f3962bbd8ca838"
      },
      "cell_type": "code",
      "source": "f1_score(y_test,y_pred,average='macro')",
      "execution_count": null,
      "outputs": []
    },
    {
      "metadata": {
        "trusted": true,
        "_uuid": "ca20dd4a2d67d754c4b9a1a0b16fd9274156d0c9"
      },
      "cell_type": "code",
      "source": "accuracy_score(y_test,y_pred)",
      "execution_count": null,
      "outputs": []
    },
    {
      "metadata": {
        "trusted": true,
        "_uuid": "de8fdb6de92a814634cfaa40bb02cbcbe5074f23"
      },
      "cell_type": "code",
      "source": "",
      "execution_count": null,
      "outputs": []
    },
    {
      "metadata": {
        "trusted": true,
        "_uuid": "927b1ec2ab516d5d50f815a169fc7e330a7368f5"
      },
      "cell_type": "code",
      "source": "",
      "execution_count": null,
      "outputs": []
    },
    {
      "metadata": {
        "trusted": true,
        "_uuid": "8214cc64a27226683bc230b6e4279f16e6833c93"
      },
      "cell_type": "code",
      "source": "",
      "execution_count": null,
      "outputs": []
    }
  ],
  "metadata": {
    "kernelspec": {
      "display_name": "Python 3",
      "language": "python",
      "name": "python3"
    },
    "language_info": {
      "name": "python",
      "version": "3.6.6",
      "mimetype": "text/x-python",
      "codemirror_mode": {
        "name": "ipython",
        "version": 3
      },
      "pygments_lexer": "ipython3",
      "nbconvert_exporter": "python",
      "file_extension": ".py"
    }
  },
  "nbformat": 4,
  "nbformat_minor": 1
}