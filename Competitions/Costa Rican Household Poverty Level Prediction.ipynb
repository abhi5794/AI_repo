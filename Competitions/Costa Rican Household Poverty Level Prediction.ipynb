{
  "cells": [
    {
      "metadata": {
        "_uuid": "8f2839f25d086af736a60e9eeb907d3b93b6e0e5",
        "_cell_guid": "b1076dfc-b9ad-4769-8c92-a6c4dae69d19",
        "trusted": true,
        "_kg_hide-input": true
      },
      "cell_type": "code",
      "source": "%matplotlib inline\n%reload_ext autoreload\n%autoreload 2\nimport numpy as np\nimport pandas as pd\nimport matplotlib.pyplot as plt\nimport seaborn as sns\nimport lightgbm as lgb\nfrom fastai.structured import *\nfrom fastai.column_data import *\n\nfrom sklearn.model_selection import train_test_split \nfrom sklearn.preprocessing import LabelEncoder\nle = LabelEncoder()\nfrom sklearn.model_selection import StratifiedKFold\nfk = StratifiedKFold(n_splits=10)\nfrom sklearn.metrics import accuracy_score, f1_score\n",
      "execution_count": null,
      "outputs": []
    },
    {
      "metadata": {
        "_cell_guid": "79c7e3d0-c299-4dcb-8224-4455121ee9b0",
        "_uuid": "d629ff2d2480ee46fbb7e2d37f6b5fab8052498a",
        "trusted": true
      },
      "cell_type": "code",
      "source": "train = pd.read_csv('../input/train.csv')\ntest = pd.read_csv('../input/test.csv')",
      "execution_count": null,
      "outputs": []
    },
    {
      "metadata": {
        "trusted": true,
        "_uuid": "dd7ee9f76522fd7da4e640bcf854589a50da76e8"
      },
      "cell_type": "code",
      "source": "train.shape , test.shape",
      "execution_count": null,
      "outputs": []
    },
    {
      "metadata": {
        "trusted": true,
        "_uuid": "b151a1df7fb7460dfb7a34a664669c4405f40fa1"
      },
      "cell_type": "code",
      "source": "train.head()",
      "execution_count": null,
      "outputs": []
    },
    {
      "metadata": {
        "trusted": true,
        "_uuid": "5e686af0cfbc5d87332bf831940e91b831b852df"
      },
      "cell_type": "code",
      "source": "miss = train.isnull().sum().to_frame().sort_values(0,ascending=False)",
      "execution_count": null,
      "outputs": []
    },
    {
      "metadata": {
        "trusted": true,
        "_uuid": "9548334b9359fc72e221b44ecacbd75585019d22",
        "scrolled": true
      },
      "cell_type": "code",
      "source": "print(miss.head())",
      "execution_count": null,
      "outputs": []
    },
    {
      "metadata": {
        "trusted": true,
        "_uuid": "ed300d31506542be7309b4221d2c6f33f182cd96"
      },
      "cell_type": "code",
      "source": "# Classify our labels:\ncat_vars = ['hacdor',\n            'hacapo',\n            'v14a',\n            'refrig',\n            'v18q',\n            'paredblolad',\n            'paredzocalo',\n            'paredpreb',\n            'pareddes',\n            'paredmad',\n            'paredzinc',\n            'paredfibras',\n            'paredother',\n            'pisomoscer',\n            'pisocemento',\n            'pisoother',\n            'pisonatur',\n            'pisonotiene',\n            'pisomadera',\n            'techozinc',\n            'techoentrepiso',\n            'techocane',\n            'techootro',\n            'cielorazo',\n            'abastaguadentro',\n            'abastaguafuera',\n            'abastaguano',\n            'public',\n            'planpri',\n            'noelec',\n            'coopele',\n            'sanitario1',\n            'sanitario2',\n            'sanitario3',\n            'sanitario5',\n            'sanitario6',\n            'energcocinar1',\n            'energcocinar2',\n            'energcocinar3',\n            'energcocinar4',\n            'elimbasu1',\n            'elimbasu2',\n            'elimbasu3',\n            'elimbasu4',\n            'elimbasu5',\n            'elimbasu6',\n            'epared1',\n            'epared2',\n            'epared3',\n            'etecho1',\n            'etecho2',\n            'etecho3',\n            'eviv1',\n            'eviv2',\n            'eviv3',\n            'dis',\n            'male',\n            'female',\n            'estadocivil1',\n            'estadocivil2',\n            'estadocivil3',\n            'estadocivil4',\n            'estadocivil5',\n            'estadocivil6',\n            'estadocivil7',\n            'parentesco1',\n            'parentesco2',\n            'parentesco3',\n            'parentesco4',\n            'parentesco5',\n            'parentesco6',\n            'parentesco7',\n            'parentesco8',\n            'parentesco9',\n            'parentesco10',\n            'parentesco11',\n            'parentesco12',\n            'dependency',\n            'edjefe',\n            'edjefa',\n            'instlevel1',\n            'instlevel2',\n            'instlevel3',\n            'instlevel4',\n            'instlevel5',\n            'instlevel6',\n            'instlevel7',\n            'instlevel8',\n            'instlevel9',\n            'tipovivi1',\n            'tipovivi2',\n            'tipovivi3',\n            'tipovivi4',\n            'tipovivi5',\n            'computer',\n            'television',\n            'mobilephone',\n            'lugar1',\n            'lugar2',\n            'lugar3',\n            'lugar4',\n            'lugar5',\n            'lugar6',\n            'area1',\n            'area2',\n            'idhogar']\ncontin_vars = ['v2a1',\n               'rooms',\n               'v18q1',\n               'r4h1',\n               'r4h2',\n               'r4h3',\n               'r4m1',\n               'r4m2',\n               'r4m3',\n               'r4t1',\n               'r4t2',\n               'r4t3',\n               'tamhog',\n               'escolari',\n               'rez_esc',\n               'hhsize',\n               'hogar_nin',\n               'hogar_adul',\n               'hogar_mayor',\n               'hogar_total',\n               'meaneduc',\n               'bedrooms',\n               'overcrowding',\n               'qmobilephone',\n               'age',\n               'SQBescolari',\n               'SQBage',\n               'SQBhogar_total',\n               'SQBedjefe',\n               'SQBhogar_nin',\n               'SQBovercrowding',\n               'SQBdependency',\n               'SQBmeaned',\n               'agesq']\n\nobjective= ['Target']\n\nids = ['Id']",
      "execution_count": null,
      "outputs": []
    },
    {
      "metadata": {
        "trusted": true,
        "_uuid": "2de2c3b9043e87a125ccc1dfff8a0ebeea14feda"
      },
      "cell_type": "code",
      "source": "# converting to categorical\nfor v in cat_vars:\n    train[v] = train[v].astype('category').cat.as_ordered()\n#converting string to cat based on train\napply_cats(test,train)",
      "execution_count": null,
      "outputs": []
    },
    {
      "metadata": {
        "trusted": true,
        "_uuid": "b5c0802f40b8bcf128ed2f728ac5401f9a042631"
      },
      "cell_type": "code",
      "source": "#converting all to float\nfor v in contin_vars:\n    train[v] = train[v].fillna(0).astype('float32')\n    test[v] = test[v].fillna(0).astype('float32')",
      "execution_count": null,
      "outputs": []
    },
    {
      "metadata": {
        "trusted": true,
        "_uuid": "5995185debb59212f7158a97c64de394e807b812"
      },
      "cell_type": "code",
      "source": "#creating new features\nfor dataframe in (train,test):\n    dataframe['Rent_per_individual'] = dataframe['v2a1']/dataframe['r4t3']\n    dataframe['Rent_per_child'] = dataframe['v2a1']/dataframe['r4t1']\n    dataframe['Rent_per_over_65'] = dataframe['v2a1']/dataframe['r4t3']\n    dataframe['Rent_per_room'] = dataframe['v2a1']/dataframe['rooms']\n    dataframe['Rent_per_bedrooms'] = dataframe['v2a1']/dataframe['bedrooms']\n    dataframe['Proportion_under_12'] = dataframe['r4t1']/dataframe['r4t3']\n    dataframe['Proportion_under_12_male'] = dataframe['r4h1']/dataframe['r4t3']\n    dataframe['Proportion_under_12_female'] = dataframe['r4m1']/dataframe['r4t3']\n    dataframe['Proportion_male'] = dataframe['r4h3']/dataframe['r4t3']\n    dataframe['Proportion_female'] = dataframe['r4m3']/dataframe['r4t3']\n    dataframe['Rooms_per_individual'] = dataframe['rooms']/dataframe['r4t3']\n    dataframe['Rooms_per_child'] = dataframe['rooms']/dataframe['r4t1']\n    dataframe['Tablets_per_individual'] = dataframe['v18q1']/dataframe['r4t3']\n    dataframe['Tablets_per_child'] = dataframe['v18q1']/dataframe['r4t1']\n    dataframe['Years_schooling_per_individual'] = dataframe['escolari']/dataframe['r4t3']\n    dataframe['Years_schooling_per_adult'] = dataframe['escolari']/(dataframe['r4t3']-dataframe['r4t1'])\n    dataframe['Years_schooling_per_child'] = dataframe['escolari']/dataframe['r4t1']\n    dataframe['Proportion_under_19'] = dataframe['hogar_nin']/dataframe['r4t3']\n    dataframe['Proportion_over_19'] = dataframe['hogar_adul']/dataframe['r4t3']\n    dataframe['Proportion_under_65'] = (dataframe['hogar_total']-dataframe['hogar_mayor'])/dataframe['r4t3']\n    dataframe['Proportion_over_65'] = dataframe['hogar_mayor']/dataframe['r4t3']\n    dataframe['Bedrooms_per_individual'] = dataframe['bedrooms']/dataframe['r4t3']\n    dataframe['Bedrooms_per_child'] = dataframe['bedrooms']/dataframe['r4t1']\n    dataframe['Bedrooms_per_over_65'] = dataframe['bedrooms']/dataframe['r4t3']\n    dataframe['Extreme_conditions_flag'] = (dataframe['abastaguano'] & dataframe['noelec'] & dataframe['sanitario1'] & dataframe['energcocinar1'])\n    dataframe['bedrooms_to_rooms'] = dataframe['bedrooms']/dataframe['rooms']\n    dataframe['tamhog_to_rooms'] = dataframe['tamhog']/dataframe['rooms']\n    dataframe['tamhog_to_bedrooms'] = dataframe['tamhog']/dataframe['bedrooms']\n    dataframe['r4t3_to_tamhog'] = dataframe['r4t3']/dataframe['tamhog']\n    dataframe['hhsize_to_rooms'] = dataframe['hhsize']/dataframe['rooms']\n    dataframe['hhsize_to_bedrooms'] = dataframe['hhsize']/dataframe['bedrooms']\n    dataframe['rent_to_hhsize'] = dataframe['v2a1']/dataframe['hhsize']\n    dataframe['qmobilephone_to_r4t3'] = dataframe['qmobilephone']/dataframe['r4t3']\n    dataframe['qmobilephone_to_v18q1'] = dataframe['qmobilephone']/dataframe['v18q1']",
      "execution_count": null,
      "outputs": []
    },
    {
      "metadata": {
        "trusted": true,
        "_uuid": "b8fbf167a676a283449d485fec79e7995ba377a3"
      },
      "cell_type": "code",
      "source": "# treating the new features as int\nnew_features = ['Rent_per_individual',\n                'Rent_per_child',\n                'Rent_per_over_65',\n                'Rent_per_room',\n                'Rent_per_bedrooms',\n                'Proportion_under_12',\n                'Proportion_under_12_male',\n                'Proportion_under_12_female',\n                'Proportion_male',\n                'Proportion_female',\n                'Rooms_per_individual',\n                'Rooms_per_child',\n                'Tablets_per_individual',\n                'Tablets_per_child',\n                'Years_schooling_per_individual',\n                'Years_schooling_per_adult',\n                'Years_schooling_per_child',\n                'Proportion_under_19',\n                'Proportion_over_19',\n                'Proportion_under_65',\n                'Proportion_over_65',\n                'Bedrooms_per_individual',\n                'Bedrooms_per_child',\n                'Bedrooms_per_over_65',\n                'Extreme_conditions_flag',\n                'bedrooms_to_rooms',\n                'tamhog_to_rooms',\n                'tamhog_to_bedrooms',\n                'r4t3_to_tamhog',\n                'hhsize_to_rooms',\n                'hhsize_to_bedrooms',\n                'rent_to_hhsize',\n                'qmobilephone_to_r4t3',\n                'qmobilephone_to_v18q1']\nfor v in new_features:\n    train[v] = train[v].fillna(0).astype('float32')\n    test[v] = test[v].fillna(0).astype('float32')",
      "execution_count": null,
      "outputs": []
    },
    {
      "metadata": {
        "trusted": true,
        "_uuid": "2a37e4bbc4de11ec0206b70ddd51fa64b0afffe9"
      },
      "cell_type": "code",
      "source": "train.head(2)",
      "execution_count": null,
      "outputs": []
    },
    {
      "metadata": {
        "trusted": true,
        "_uuid": "e249fe6c1437c229921f088634bf61c0af34d7a9"
      },
      "cell_type": "code",
      "source": "train.info()",
      "execution_count": null,
      "outputs": []
    },
    {
      "metadata": {
        "trusted": true,
        "_uuid": "574ca51e17cc1c5cab7b1cf863d439ba9fa01292"
      },
      "cell_type": "code",
      "source": "train = train.set_index('Id')\ntrain = train[cat_vars+contin_vars+objective]",
      "execution_count": null,
      "outputs": []
    },
    {
      "metadata": {
        "trusted": true,
        "_uuid": "63784ce5aa80401ddb02a5a012150549d25f81e6"
      },
      "cell_type": "code",
      "source": "train.head(2)",
      "execution_count": null,
      "outputs": []
    },
    {
      "metadata": {
        "trusted": true,
        "_uuid": "8e84129d415491738195c61b1fa1c5d84ddc0aab"
      },
      "cell_type": "code",
      "source": "train.info()",
      "execution_count": null,
      "outputs": []
    },
    {
      "metadata": {
        "trusted": true,
        "_uuid": "4c1b55c87e2583b73a6439f51d3246f7256869fb"
      },
      "cell_type": "code",
      "source": "#processing the data using proc_df from fast.ai\ntrain_X, train_y, nas, mapper = proc_df(train, 'Target', do_scale=True)",
      "execution_count": null,
      "outputs": []
    },
    {
      "metadata": {
        "trusted": true,
        "_uuid": "0dc4b7f342d599f6fbd6bd34f8930d1d3192ac4e"
      },
      "cell_type": "code",
      "source": "??proc_df(train, 'Target', do_scale=True)",
      "execution_count": null,
      "outputs": []
    },
    {
      "metadata": {
        "trusted": true,
        "_uuid": "fad7a5fe3256fb69128411244ded8f9cd2ab2048"
      },
      "cell_type": "code",
      "source": "test = test.set_index('Id')\ntest['Target'] = 0",
      "execution_count": null,
      "outputs": []
    },
    {
      "metadata": {
        "trusted": true,
        "_uuid": "74825305c90dc2c2310b0eacfcde405192132180"
      },
      "cell_type": "code",
      "source": "test = test[cat_vars+contin_vars+['Target']]\ntest_X, _, nas, mapper = proc_df(test, 'Target', do_scale=True,mapper=mapper, na_dict=nas)",
      "execution_count": null,
      "outputs": []
    },
    {
      "metadata": {
        "trusted": true,
        "_uuid": "76545982b77dd60f615ecbbfb0c5c136296dfde3"
      },
      "cell_type": "code",
      "source": "lgbm_model = lgb.LGBMClassifier(\n        n_estimators=2000,\n        learning_rate=0.1,\n        num_leaves=123,\n        colsample_bytree=.8,\n        subsample=.7,\n        max_depth=15,\n        reg_alpha=.1,\n        reg_lambda=.1,\n        min_split_gain=.01,\n        min_child_weight=2,\n        scale_pos_weight=5,\n    )\nlgbm_model.fit(train_X, train_y)\npred = lgbm_model.predict(test_X)",
      "execution_count": null,
      "outputs": []
    },
    {
      "metadata": {
        "trusted": true,
        "_uuid": "f576c2f621a70d122926b1bb0de84a4ca6c3b107"
      },
      "cell_type": "code",
      "source": "sub = pd.read_csv('../input/sample_submission.csv')",
      "execution_count": null,
      "outputs": []
    },
    {
      "metadata": {
        "trusted": true,
        "_uuid": "41ea6d6ff787dc383a2bd06070741c69dd1b5f4d"
      },
      "cell_type": "code",
      "source": "sub['Target'] = pred\nsub.to_csv(\"submission.csv\",index=False)",
      "execution_count": null,
      "outputs": []
    },
    {
      "metadata": {
        "trusted": true,
        "_uuid": "db59a2b8d7d0049d8b53dc6bf500d9e0f2706af9"
      },
      "cell_type": "code",
      "source": "",
      "execution_count": null,
      "outputs": []
    }
  ],
  "metadata": {
    "kernelspec": {
      "display_name": "Python 3",
      "language": "python",
      "name": "python3"
    },
    "language_info": {
      "name": "python",
      "version": "3.6.6",
      "mimetype": "text/x-python",
      "codemirror_mode": {
        "name": "ipython",
        "version": 3
      },
      "pygments_lexer": "ipython3",
      "nbconvert_exporter": "python",
      "file_extension": ".py"
    }
  },
  "nbformat": 4,
  "nbformat_minor": 1
}